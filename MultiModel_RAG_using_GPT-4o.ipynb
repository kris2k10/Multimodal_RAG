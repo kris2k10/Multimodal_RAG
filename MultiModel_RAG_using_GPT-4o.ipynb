{
 "cells": [
  {
   "cell_type": "markdown",
   "metadata": {
    "application/vnd.databricks.v1+cell": {
     "cellMetadata": {},
     "inputWidgets": {},
     "nuid": "e5bd3fd5-40d1-4ff5-926a-4d7b7c8df59e",
     "showTitle": false,
     "title": ""
    }
   },
   "source": [
    "This code is to build a RAG module using traidation model GPT-4 and multimodal RAG GPT-4o to find the answers for below questions. \n",
    "1. Is the RAG architecture capable of addressing all kinds of contextual responses from context documents?\n",
    "2. Can the RAG architecture handle different types of inputs, such as text, images, and tabular data, and return responses with equal precision based on their respective contexts?\n"
   ]
  },
  {
   "cell_type": "code",
   "execution_count": 0,
   "metadata": {
    "application/vnd.databricks.v1+cell": {
     "cellMetadata": {
      "byteLimit": 2048000,
      "rowLimit": 10000
     },
     "inputWidgets": {},
     "nuid": "c452844a-90d6-4aff-b099-1b16d2061acd",
     "showTitle": false,
     "title": ""
    }
   },
   "outputs": [
    {
     "output_type": "execute_result",
     "data": {
      "text/plain": [
       "datetime.datetime(2024, 8, 5, 18, 2, 47, 359493)"
      ]
     },
     "execution_count": 1,
     "metadata": {},
     "output_type": "execute_result"
    }
   ],
   "source": [
    "from datetime import datetime\n",
    "datetime.now()"
   ]
  },
  {
   "cell_type": "markdown",
   "metadata": {
    "application/vnd.databricks.v1+cell": {
     "cellMetadata": {
      "byteLimit": 2048000,
      "rowLimit": 10000
     },
     "inputWidgets": {},
     "nuid": "80c68a22-4516-4e8a-8d12-afb2053365b9",
     "showTitle": false,
     "title": ""
    }
   },
   "source": [
    "### Packages"
   ]
  },
  {
   "cell_type": "code",
   "execution_count": 0,
   "metadata": {
    "application/vnd.databricks.v1+cell": {
     "cellMetadata": {
      "byteLimit": 2048000,
      "rowLimit": 10000
     },
     "inputWidgets": {},
     "nuid": "c4440a23-afd4-4389-9af9-cb9989c8137a",
     "showTitle": false,
     "title": ""
    }
   },
   "outputs": [
    {
     "output_type": "stream",
     "name": "stdout",
     "output_type": "stream",
     "text": [
      "\u001B[43mNote: you may need to restart the kernel using dbutils.library.restartPython() to use updated packages.\u001B[0m\nRequirement already satisfied: transformers in /databricks/python3/lib/python3.10/site-packages (4.30.2)\nRequirement already satisfied: tqdm>=4.27 in /databricks/python3/lib/python3.10/site-packages (from transformers) (4.64.1)\nRequirement already satisfied: tokenizers!=0.11.3,<0.14,>=0.11.1 in /databricks/python3/lib/python3.10/site-packages (from transformers) (0.13.3)\nRequirement already satisfied: huggingface-hub<1.0,>=0.14.1 in /databricks/python3/lib/python3.10/site-packages (from transformers) (0.16.4)\nRequirement already satisfied: regex!=2019.12.17 in /databricks/python3/lib/python3.10/site-packages (from transformers) (2022.7.9)\nRequirement already satisfied: safetensors>=0.3.1 in /databricks/python3/lib/python3.10/site-packages (from transformers) (0.3.2)\nRequirement already satisfied: requests in /databricks/python3/lib/python3.10/site-packages (from transformers) (2.28.1)\nRequirement already satisfied: numpy>=1.17 in /databricks/python3/lib/python3.10/site-packages (from transformers) (1.21.5)\nRequirement already satisfied: filelock in /databricks/python3/lib/python3.10/site-packages (from transformers) (3.6.0)\nRequirement already satisfied: packaging>=20.0 in /databricks/python3/lib/python3.10/site-packages (from transformers) (21.3)\nRequirement already satisfied: pyyaml>=5.1 in /databricks/python3/lib/python3.10/site-packages (from transformers) (6.0)\nRequirement already satisfied: typing-extensions>=3.7.4.3 in /local_disk0/.ephemeral_nfs/cluster_libraries/python/lib/python3.10/site-packages (from huggingface-hub<1.0,>=0.14.1->transformers) (4.12.2)\nRequirement already satisfied: fsspec in /databricks/python3/lib/python3.10/site-packages (from huggingface-hub<1.0,>=0.14.1->transformers) (2022.7.1)\nRequirement already satisfied: pyparsing!=3.0.5,>=2.0.2 in /databricks/python3/lib/python3.10/site-packages (from packaging>=20.0->transformers) (3.0.9)\nRequirement already satisfied: urllib3<1.27,>=1.21.1 in /databricks/python3/lib/python3.10/site-packages (from requests->transformers) (1.26.11)\nRequirement already satisfied: certifi>=2017.4.17 in /databricks/python3/lib/python3.10/site-packages (from requests->transformers) (2022.9.14)\nRequirement already satisfied: idna<4,>=2.5 in /databricks/python3/lib/python3.10/site-packages (from requests->transformers) (3.3)\nRequirement already satisfied: charset-normalizer<3,>=2 in /databricks/python3/lib/python3.10/site-packages (from requests->transformers) (2.0.4)\n\u001B[43mNote: you may need to restart the kernel using dbutils.library.restartPython() to use updated packages.\u001B[0m\n\u001B[43mNote: you may need to restart the kernel using dbutils.library.restartPython() to use updated packages.\u001B[0m\nCollecting protobuf==3.20.*\n  Downloading protobuf-3.20.3-cp310-cp310-manylinux_2_12_x86_64.manylinux2010_x86_64.whl (1.1 MB)\n     ━━━━━━━━━━━━━━━━━━━━━━━━━━━━━━━━━━━━━━━━ 1.1/1.1 MB 12.7 MB/s eta 0:00:00\nInstalling collected packages: protobuf\n  Attempting uninstall: protobuf\n    Found existing installation: protobuf 3.19.4\n    Not uninstalling protobuf at /databricks/python3/lib/python3.10/site-packages, outside environment /local_disk0/.ephemeral_nfs/envs/pythonEnv-611d4d2b-c519-4166-bf96-a8d17ff0fea9\n    Can't uninstall 'protobuf'. No files were found to uninstall.\nERROR: pip's dependency resolver does not currently take into account all the packages that are installed. This behaviour is the source of the following dependency conflicts.\ndatabricks-feature-store 0.14.3 requires pyspark<4,>=3.1.2, which is not installed.\ntensorflow-cpu 2.11.1 requires protobuf<3.20,>=3.9.2, but you have protobuf 3.20.3 which is incompatible.\nSuccessfully installed protobuf-3.20.3\n\u001B[43mNote: you may need to restart the kernel using dbutils.library.restartPython() to use updated packages.\u001B[0m\n\u001B[43mNote: you may need to restart the kernel using dbutils.library.restartPython() to use updated packages.\u001B[0m\nCollecting poppler-utils\n  Downloading poppler_utils-0.1.0-py3-none-any.whl (9.2 kB)\nRequirement already satisfied: Click>=7.0 in /databricks/python3/lib/python3.10/site-packages (from poppler-utils) (8.0.4)\nInstalling collected packages: poppler-utils\nSuccessfully installed poppler-utils-0.1.0\n\u001B[43mNote: you may need to restart the kernel using dbutils.library.restartPython() to use updated packages.\u001B[0m\n\u001B[43mNote: you may need to restart the kernel using dbutils.library.restartPython() to use updated packages.\u001B[0m\nCollecting langchain==0.2.6\n  Downloading langchain-0.2.6-py3-none-any.whl (975 kB)\n     ━━━━━━━━━━━━━━━━━━━━━━━━━━━━━━━━━━━━━━ 975.5/975.5 kB 14.9 MB/s eta 0:00:00\nRequirement already satisfied: PyYAML>=5.3 in /databricks/python3/lib/python3.10/site-packages (from langchain==0.2.6) (6.0)\nRequirement already satisfied: requests<3,>=2 in /databricks/python3/lib/python3.10/site-packages (from langchain==0.2.6) (2.28.1)\nCollecting langsmith<0.2.0,>=0.1.17\n  Downloading langsmith-0.1.96-py3-none-any.whl (140 kB)\n     ━━━━━━━━━━━━━━━━━━━━━━━━━━━━━━━━━━━━━━ 140.1/140.1 kB 17.1 MB/s eta 0:00:00\nRequirement already satisfied: tenacity!=8.4.0,<9.0.0,>=8.1.0 in /databricks/python3/lib/python3.10/site-packages (from langchain==0.2.6) (8.1.0)\nRequirement already satisfied: numpy<2,>=1 in /databricks/python3/lib/python3.10/site-packages (from langchain==0.2.6) (1.21.5)\nCollecting langchain-text-splitters<0.3.0,>=0.2.0\n  Downloading langchain_text_splitters-0.2.2-py3-none-any.whl (25 kB)\nCollecting langchain-core<0.3.0,>=0.2.10\n  Downloading langchain_core-0.2.28-py3-none-any.whl (379 kB)\n     ━━━━━━━━━━━━━━━━━━━━━━━━━━━━━━━━━━━━━━ 379.9/379.9 kB 19.7 MB/s eta 0:00:00\nRequirement already satisfied: async-timeout<5.0.0,>=4.0.0 in /databricks/python3/lib/python3.10/site-packages (from langchain==0.2.6) (4.0.3)\nRequirement already satisfied: SQLAlchemy<3,>=1.4 in /databricks/python3/lib/python3.10/site-packages (from langchain==0.2.6) (1.4.39)\nRequirement already satisfied: pydantic<3,>=1 in /databricks/python3/lib/python3.10/site-packages (from langchain==0.2.6) (1.10.6)\nRequirement already satisfied: aiohttp<4.0.0,>=3.8.3 in /databricks/python3/lib/python3.10/site-packages (from langchain==0.2.6) (3.8.5)\nRequirement already satisfied: frozenlist>=1.1.1 in /databricks/python3/lib/python3.10/site-packages (from aiohttp<4.0.0,>=3.8.3->langchain==0.2.6) (1.4.0)\nRequirement already satisfied: attrs>=17.3.0 in /databricks/python3/lib/python3.10/site-packages (from aiohttp<4.0.0,>=3.8.3->langchain==0.2.6) (21.4.0)\nRequirement already satisfied: aiosignal>=1.1.2 in /databricks/python3/lib/python3.10/site-packages (from aiohttp<4.0.0,>=3.8.3->langchain==0.2.6) (1.3.1)\nRequirement already satisfied: charset-normalizer<4.0,>=2.0 in /databricks/python3/lib/python3.10/site-packages (from aiohttp<4.0.0,>=3.8.3->langchain==0.2.6) (2.0.4)\nRequirement already satisfied: yarl<2.0,>=1.0 in /databricks/python3/lib/python3.10/site-packages (from aiohttp<4.0.0,>=3.8.3->langchain==0.2.6) (1.9.2)\nRequirement already satisfied: multidict<7.0,>=4.5 in /databricks/python3/lib/python3.10/site-packages (from aiohttp<4.0.0,>=3.8.3->langchain==0.2.6) (6.0.4)\nRequirement already satisfied: typing-extensions>=4.7 in /local_disk0/.ephemeral_nfs/cluster_libraries/python/lib/python3.10/site-packages (from langchain-core<0.3.0,>=0.2.10->langchain==0.2.6) (4.12.2)\nCollecting packaging<25,>=23.2\n  Downloading packaging-24.1-py3-none-any.whl (53 kB)\n     ━━━━━━━━━━━━━━━━━━━━━━━━━━━━━━━━━━━━━━━━ 54.0/54.0 kB 7.6 MB/s eta 0:00:00\nCollecting jsonpatch<2.0,>=1.33\n  Downloading jsonpatch-1.33-py2.py3-none-any.whl (12 kB)\nCollecting orjson<4.0.0,>=3.9.14\n  Downloading orjson-3.10.6-cp310-cp310-manylinux_2_17_x86_64.manylinux2014_x86_64.whl (141 kB)\n     ━━━━━━━━━━━━━━━━━━━━━━━━━━━━━━━━━━━━━━ 141.1/141.1 kB 18.0 MB/s eta 0:00:00\nRequirement already satisfied: idna<4,>=2.5 in /databricks/python3/lib/python3.10/site-packages (from requests<3,>=2->langchain==0.2.6) (3.3)\nRequirement already satisfied: urllib3<1.27,>=1.21.1 in /databricks/python3/lib/python3.10/site-packages (from requests<3,>=2->langchain==0.2.6) (1.26.11)\nRequirement already satisfied: certifi>=2017.4.17 in /databricks/python3/lib/python3.10/site-packages (from requests<3,>=2->langchain==0.2.6) (2022.9.14)\nRequirement already satisfied: greenlet!=0.4.17 in /databricks/python3/lib/python3.10/site-packages (from SQLAlchemy<3,>=1.4->langchain==0.2.6) (1.1.1)\nCollecting jsonpointer>=1.9\n  Downloading jsonpointer-3.0.0-py2.py3-none-any.whl (7.6 kB)\nInstalling collected packages: packaging, orjson, jsonpointer, langsmith, jsonpatch, langchain-core, langchain-text-splitters, langchain\n  Attempting uninstall: packaging\n    Found existing installation: packaging 21.3\n    Not uninstalling packaging at /databricks/python3/lib/python3.10/site-packages, outside environment /local_disk0/.ephemeral_nfs/envs/pythonEnv-611d4d2b-c519-4166-bf96-a8d17ff0fea9\n    Can't uninstall 'packaging'. No files were found to uninstall.\n  Attempting uninstall: langchain\n    Found existing installation: langchain 0.0.217\n    Not uninstalling langchain at /databricks/python3/lib/python3.10/site-packages, outside environment /local_disk0/.ephemeral_nfs/envs/pythonEnv-611d4d2b-c519-4166-bf96-a8d17ff0fea9\n    Can't uninstall 'langchain'. No files were found to uninstall.\nERROR: pip's dependency resolver does not currently take into account all the packages that are installed. This behaviour is the source of the following dependency conflicts.\npetastorm 0.12.1 requires pyspark>=2.1.0, which is not installed.\ndatabricks-feature-store 0.14.3 requires pyspark<4,>=3.1.2, which is not installed.\ntensorflow-cpu 2.11.1 requires protobuf<3.20,>=3.9.2, but you have protobuf 3.20.3 which is incompatible.\nmlflow-skinny 2.5.0 requires packaging<24, but you have packaging 24.1 which is incompatible.\nSuccessfully installed jsonpatch-1.33 jsonpointer-3.0.0 langchain-0.2.6 langchain-core-0.2.28 langchain-text-splitters-0.2.2 langsmith-0.1.96 orjson-3.10.6 packaging-24.1\n\u001B[43mNote: you may need to restart the kernel using dbutils.library.restartPython() to use updated packages.\u001B[0m\n\u001B[43mNote: you may need to restart the kernel using dbutils.library.restartPython() to use updated packages.\u001B[0m\nCollecting langchain-core==0.2.6\n  Downloading langchain_core-0.2.6-py3-none-any.whl (315 kB)\n     ━━━━━━━━━━━━━━━━━━━━━━━━━━━━━━━━━━━━━━━ 315.5/315.5 kB 6.3 MB/s eta 0:00:00\nRequirement already satisfied: pydantic<3,>=1 in /databricks/python3/lib/python3.10/site-packages (from langchain-core==0.2.6) (1.10.6)\nRequirement already satisfied: jsonpatch<2.0,>=1.33 in /local_disk0/.ephemeral_nfs/envs/pythonEnv-611d4d2b-c519-4166-bf96-a8d17ff0fea9/lib/python3.10/site-packages (from langchain-core==0.2.6) (1.33)\nRequirement already satisfied: packaging<25,>=23.2 in /local_disk0/.ephemeral_nfs/envs/pythonEnv-611d4d2b-c519-4166-bf96-a8d17ff0fea9/lib/python3.10/site-packages (from langchain-core==0.2.6) (24.1)\nRequirement already satisfied: tenacity<9.0.0,>=8.1.0 in /databricks/python3/lib/python3.10/site-packages (from langchain-core==0.2.6) (8.1.0)\nRequirement already satisfied: langsmith<0.2.0,>=0.1.75 in /local_disk0/.ephemeral_nfs/envs/pythonEnv-611d4d2b-c519-4166-bf96-a8d17ff0fea9/lib/python3.10/site-packages (from langchain-core==0.2.6) (0.1.96)\nRequirement already satisfied: PyYAML>=5.3 in /databricks/python3/lib/python3.10/site-packages (from langchain-core==0.2.6) (6.0)\nRequirement already satisfied: jsonpointer>=1.9 in /local_disk0/.ephemeral_nfs/envs/pythonEnv-611d4d2b-c519-4166-bf96-a8d17ff0fea9/lib/python3.10/site-packages (from jsonpatch<2.0,>=1.33->langchain-core==0.2.6) (3.0.0)\nRequirement already satisfied: requests<3,>=2 in /databricks/python3/lib/python3.10/site-packages (from langsmith<0.2.0,>=0.1.75->langchain-core==0.2.6) (2.28.1)\nRequirement already satisfied: orjson<4.0.0,>=3.9.14 in /local_disk0/.ephemeral_nfs/envs/pythonEnv-611d4d2b-c519-4166-bf96-a8d17ff0fea9/lib/python3.10/site-packages (from langsmith<0.2.0,>=0.1.75->langchain-core==0.2.6) (3.10.6)\nRequirement already satisfied: typing-extensions>=4.2.0 in /local_disk0/.ephemeral_nfs/cluster_libraries/python/lib/python3.10/site-packages (from pydantic<3,>=1->langchain-core==0.2.6) (4.12.2)\nRequirement already satisfied: charset-normalizer<3,>=2 in /databricks/python3/lib/python3.10/site-packages (from requests<3,>=2->langsmith<0.2.0,>=0.1.75->langchain-core==0.2.6) (2.0.4)\nRequirement already satisfied: certifi>=2017.4.17 in /databricks/python3/lib/python3.10/site-packages (from requests<3,>=2->langsmith<0.2.0,>=0.1.75->langchain-core==0.2.6) (2022.9.14)\nRequirement already satisfied: idna<4,>=2.5 in /databricks/python3/lib/python3.10/site-packages (from requests<3,>=2->langsmith<0.2.0,>=0.1.75->langchain-core==0.2.6) (3.3)\nRequirement already satisfied: urllib3<1.27,>=1.21.1 in /databricks/python3/lib/python3.10/site-packages (from requests<3,>=2->langsmith<0.2.0,>=0.1.75->langchain-core==0.2.6) (1.26.11)\nInstalling collected packages: langchain-core\n  Attempting uninstall: langchain-core\n    Found existing installation: langchain-core 0.2.28\n    Uninstalling langchain-core-0.2.28:\n      Successfully uninstalled langchain-core-0.2.28\nERROR: pip's dependency resolver does not currently take into account all the packages that are installed. This behaviour is the source of the following dependency conflicts.\nlangchain 0.2.6 requires langchain-core<0.3.0,>=0.2.10, but you have langchain-core 0.2.6 which is incompatible.\nlangchain-text-splitters 0.2.2 requires langchain-core<0.3.0,>=0.2.10, but you have langchain-core 0.2.6 which is incompatible.\nSuccessfully installed langchain-core-0.2.6\n\u001B[43mNote: you may need to restart the kernel using dbutils.library.restartPython() to use updated packages.\u001B[0m\n\u001B[43mNote: you may need to restart the kernel using dbutils.library.restartPython() to use updated packages.\u001B[0m\nCollecting langchain-openai==0.1.13\n  Downloading langchain_openai-0.1.13-py3-none-any.whl (45 kB)\n     ━━━━━━━━━━━━━━━━━━━━━━━━━━━━━━━━━━━━━━━━ 45.9/45.9 kB 1.9 MB/s eta 0:00:00\nRequirement already satisfied: langchain-core<0.3,>=0.2.2 in /local_disk0/.ephemeral_nfs/envs/pythonEnv-611d4d2b-c519-4166-bf96-a8d17ff0fea9/lib/python3.10/site-packages (from langchain-openai==0.1.13) (0.2.6)\nCollecting tiktoken<1,>=0.7\n  Downloading tiktoken-0.7.0-cp310-cp310-manylinux_2_17_x86_64.manylinux2014_x86_64.whl (1.1 MB)\n     ━━━━━━━━━━━━━━━━━━━━━━━━━━━━━━━━━━━━━━━━ 1.1/1.1 MB 31.4 MB/s eta 0:00:00\nCollecting openai<2.0.0,>=1.32.0\n  Downloading openai-1.39.0-py3-none-any.whl (336 kB)\n     ━━━━━━━━━━━━━━━━━━━━━━━━━━━━━━━━━━━━━━ 336.7/336.7 kB 32.4 MB/s eta 0:00:00\nRequirement already satisfied: tenacity<9.0.0,>=8.1.0 in /databricks/python3/lib/python3.10/site-packages (from langchain-core<0.3,>=0.2.2->langchain-openai==0.1.13) (8.1.0)\nRequirement already satisfied: jsonpatch<2.0,>=1.33 in /local_disk0/.ephemeral_nfs/envs/pythonEnv-611d4d2b-c519-4166-bf96-a8d17ff0fea9/lib/python3.10/site-packages (from langchain-core<0.3,>=0.2.2->langchain-openai==0.1.13) (1.33)\nRequirement already satisfied: PyYAML>=5.3 in /databricks/python3/lib/python3.10/site-packages (from langchain-core<0.3,>=0.2.2->langchain-openai==0.1.13) (6.0)\nRequirement already satisfied: pydantic<3,>=1 in /databricks/python3/lib/python3.10/site-packages (from langchain-core<0.3,>=0.2.2->langchain-openai==0.1.13) (1.10.6)\nRequirement already satisfied: packaging<25,>=23.2 in /local_disk0/.ephemeral_nfs/envs/pythonEnv-611d4d2b-c519-4166-bf96-a8d17ff0fea9/lib/python3.10/site-packages (from langchain-core<0.3,>=0.2.2->langchain-openai==0.1.13) (24.1)\nRequirement already satisfied: langsmith<0.2.0,>=0.1.75 in /local_disk0/.ephemeral_nfs/envs/pythonEnv-611d4d2b-c519-4166-bf96-a8d17ff0fea9/lib/python3.10/site-packages (from langchain-core<0.3,>=0.2.2->langchain-openai==0.1.13) (0.1.96)\nRequirement already satisfied: anyio<5,>=3.5.0 in /databricks/python3/lib/python3.10/site-packages (from openai<2.0.0,>=1.32.0->langchain-openai==0.1.13) (3.5.0)\nRequirement already satisfied: distro<2,>=1.7.0 in /usr/lib/python3/dist-packages (from openai<2.0.0,>=1.32.0->langchain-openai==0.1.13) (1.7.0)\nRequirement already satisfied: sniffio in /databricks/python3/lib/python3.10/site-packages (from openai<2.0.0,>=1.32.0->langchain-openai==0.1.13) (1.2.0)\nRequirement already satisfied: tqdm>4 in /databricks/python3/lib/python3.10/site-packages (from openai<2.0.0,>=1.32.0->langchain-openai==0.1.13) (4.64.1)\nCollecting httpx<1,>=0.23.0\n  Downloading httpx-0.27.0-py3-none-any.whl (75 kB)\n     ━━━━━━━━━━━━━━━━━━━━━━━━━━━━━━━━━━━━━━━━ 75.6/75.6 kB 10.6 MB/s eta 0:00:00\nRequirement already satisfied: typing-extensions<5,>=4.7 in /local_disk0/.ephemeral_nfs/cluster_libraries/python/lib/python3.10/site-packages (from openai<2.0.0,>=1.32.0->langchain-openai==0.1.13) (4.12.2)\nRequirement already satisfied: regex>=2022.1.18 in /databricks/python3/lib/python3.10/site-packages (from tiktoken<1,>=0.7->langchain-openai==0.1.13) (2022.7.9)\nRequirement already satisfied: requests>=2.26.0 in /databricks/python3/lib/python3.10/site-packages (from tiktoken<1,>=0.7->langchain-openai==0.1.13) (2.28.1)\nRequirement already satisfied: idna>=2.8 in /databricks/python3/lib/python3.10/site-packages (from anyio<5,>=3.5.0->openai<2.0.0,>=1.32.0->langchain-openai==0.1.13) (3.3)\nRequirement already satisfied: certifi in /databricks/python3/lib/python3.10/site-packages (from httpx<1,>=0.23.0->openai<2.0.0,>=1.32.0->langchain-openai==0.1.13) (2022.9.14)\nCollecting httpcore==1.*\n  Downloading httpcore-1.0.5-py3-none-any.whl (77 kB)\n     ━━━━━━━━━━━━━━━━━━━━━━━━━━━━━━━━━━━━━━━━ 77.9/77.9 kB 9.0 MB/s eta 0:00:00\nRequirement already satisfied: h11<0.15,>=0.13 in /databricks/python3/lib/python3.10/site-packages (from httpcore==1.*->httpx<1,>=0.23.0->openai<2.0.0,>=1.32.0->langchain-openai==0.1.13) (0.14.0)\nRequirement already satisfied: jsonpointer>=1.9 in /local_disk0/.ephemeral_nfs/envs/pythonEnv-611d4d2b-c519-4166-bf96-a8d17ff0fea9/lib/python3.10/site-packages (from jsonpatch<2.0,>=1.33->langchain-core<0.3,>=0.2.2->langchain-openai==0.1.13) (3.0.0)\nRequirement already satisfied: orjson<4.0.0,>=3.9.14 in /local_disk0/.ephemeral_nfs/envs/pythonEnv-611d4d2b-c519-4166-bf96-a8d17ff0fea9/lib/python3.10/site-packages (from langsmith<0.2.0,>=0.1.75->langchain-core<0.3,>=0.2.2->langchain-openai==0.1.13) (3.10.6)\nRequirement already satisfied: charset-normalizer<3,>=2 in /databricks/python3/lib/python3.10/site-packages (from requests>=2.26.0->tiktoken<1,>=0.7->langchain-openai==0.1.13) (2.0.4)\nRequirement already satisfied: urllib3<1.27,>=1.21.1 in /databricks/python3/lib/python3.10/site-packages (from requests>=2.26.0->tiktoken<1,>=0.7->langchain-openai==0.1.13) (1.26.11)\nInstalling collected packages: httpcore, tiktoken, httpx, openai, langchain-openai\n  Attempting uninstall: tiktoken\n    Found existing installation: tiktoken 0.4.0\n    Not uninstalling tiktoken at /databricks/python3/lib/python3.10/site-packages, outside environment /local_disk0/.ephemeral_nfs/envs/pythonEnv-611d4d2b-c519-4166-bf96-a8d17ff0fea9\n    Can't uninstall 'tiktoken'. No files were found to uninstall.\n  Attempting uninstall: openai\n    Found existing installation: openai 0.27.8\n    Not uninstalling openai at /databricks/python3/lib/python3.10/site-packages, outside environment /local_disk0/.ephemeral_nfs/envs/pythonEnv-611d4d2b-c519-4166-bf96-a8d17ff0fea9\n    Can't uninstall 'openai'. No files were found to uninstall.\nSuccessfully installed httpcore-1.0.5 httpx-0.27.0 langchain-openai-0.1.13 openai-1.39.0 tiktoken-0.7.0\n\u001B[43mNote: you may need to restart the kernel using dbutils.library.restartPython() to use updated packages.\u001B[0m\n\u001B[43mNote: you may need to restart the kernel using dbutils.library.restartPython() to use updated packages.\u001B[0m\nCollecting langchain-community==0.2.6\n  Downloading langchain_community-0.2.6-py3-none-any.whl (2.2 MB)\n     ━━━━━━━━━━━━━━━━━━━━━━━━━━━━━━━━━━━━━━━━ 2.2/2.2 MB 13.9 MB/s eta 0:00:00\nRequirement already satisfied: langchain<0.3.0,>=0.2.6 in /local_disk0/.ephemeral_nfs/envs/pythonEnv-611d4d2b-c519-4166-bf96-a8d17ff0fea9/lib/python3.10/site-packages (from langchain-community==0.2.6) (0.2.6)\nRequirement already satisfied: aiohttp<4.0.0,>=3.8.3 in /databricks/python3/lib/python3.10/site-packages (from langchain-community==0.2.6) (3.8.5)\nCollecting langchain-core<0.3.0,>=0.2.10\n  Using cached langchain_core-0.2.28-py3-none-any.whl (379 kB)\nRequirement already satisfied: dataclasses-json<0.7,>=0.5.7 in /databricks/python3/lib/python3.10/site-packages (from langchain-community==0.2.6) (0.5.14)\nRequirement already satisfied: PyYAML>=5.3 in /databricks/python3/lib/python3.10/site-packages (from langchain-community==0.2.6) (6.0)\nRequirement already satisfied: tenacity!=8.4.0,<9.0.0,>=8.1.0 in /databricks/python3/lib/python3.10/site-packages (from langchain-community==0.2.6) (8.1.0)\nRequirement already satisfied: SQLAlchemy<3,>=1.4 in /databricks/python3/lib/python3.10/site-packages (from langchain-community==0.2.6) (1.4.39)\nRequirement already satisfied: requests<3,>=2 in /databricks/python3/lib/python3.10/site-packages (from langchain-community==0.2.6) (2.28.1)\nRequirement already satisfied: numpy<2,>=1 in /databricks/python3/lib/python3.10/site-packages (from langchain-community==0.2.6) (1.21.5)\nRequirement already satisfied: langsmith<0.2.0,>=0.1.0 in /local_disk0/.ephemeral_nfs/envs/pythonEnv-611d4d2b-c519-4166-bf96-a8d17ff0fea9/lib/python3.10/site-packages (from langchain-community==0.2.6) (0.1.96)\nRequirement already satisfied: charset-normalizer<4.0,>=2.0 in /databricks/python3/lib/python3.10/site-packages (from aiohttp<4.0.0,>=3.8.3->langchain-community==0.2.6) (2.0.4)\nRequirement already satisfied: yarl<2.0,>=1.0 in /databricks/python3/lib/python3.10/site-packages (from aiohttp<4.0.0,>=3.8.3->langchain-community==0.2.6) (1.9.2)\nRequirement already satisfied: async-timeout<5.0,>=4.0.0a3 in /databricks/python3/lib/python3.10/site-packages (from aiohttp<4.0.0,>=3.8.3->langchain-community==0.2.6) (4.0.3)\nRequirement already satisfied: frozenlist>=1.1.1 in /databricks/python3/lib/python3.10/site-packages (from aiohttp<4.0.0,>=3.8.3->langchain-community==0.2.6) (1.4.0)\nRequirement already satisfied: aiosignal>=1.1.2 in /databricks/python3/lib/python3.10/site-packages (from aiohttp<4.0.0,>=3.8.3->langchain-community==0.2.6) (1.3.1)\nRequirement already satisfied: multidict<7.0,>=4.5 in /databricks/python3/lib/python3.10/site-packages (from aiohttp<4.0.0,>=3.8.3->langchain-community==0.2.6) (6.0.4)\nRequirement already satisfied: attrs>=17.3.0 in /databricks/python3/lib/python3.10/site-packages (from aiohttp<4.0.0,>=3.8.3->langchain-community==0.2.6) (21.4.0)\nRequirement already satisfied: typing-inspect<1,>=0.4.0 in /databricks/python3/lib/python3.10/site-packages (from dataclasses-json<0.7,>=0.5.7->langchain-community==0.2.6) (0.9.0)\nRequirement already satisfied: marshmallow<4.0.0,>=3.18.0 in /databricks/python3/lib/python3.10/site-packages (from dataclasses-json<0.7,>=0.5.7->langchain-community==0.2.6) (3.20.1)\nRequirement already satisfied: langchain-text-splitters<0.3.0,>=0.2.0 in /local_disk0/.ephemeral_nfs/envs/pythonEnv-611d4d2b-c519-4166-bf96-a8d17ff0fea9/lib/python3.10/site-packages (from langchain<0.3.0,>=0.2.6->langchain-community==0.2.6) (0.2.2)\nRequirement already satisfied: pydantic<3,>=1 in /databricks/python3/lib/python3.10/site-packages (from langchain<0.3.0,>=0.2.6->langchain-community==0.2.6) (1.10.6)\nRequirement already satisfied: jsonpatch<2.0,>=1.33 in /local_disk0/.ephemeral_nfs/envs/pythonEnv-611d4d2b-c519-4166-bf96-a8d17ff0fea9/lib/python3.10/site-packages (from langchain-core<0.3.0,>=0.2.10->langchain-community==0.2.6) (1.33)\nRequirement already satisfied: packaging<25,>=23.2 in /local_disk0/.ephemeral_nfs/envs/pythonEnv-611d4d2b-c519-4166-bf96-a8d17ff0fea9/lib/python3.10/site-packages (from langchain-core<0.3.0,>=0.2.10->langchain-community==0.2.6) (24.1)\nRequirement already satisfied: typing-extensions>=4.7 in /local_disk0/.ephemeral_nfs/cluster_libraries/python/lib/python3.10/site-packages (from langchain-core<0.3.0,>=0.2.10->langchain-community==0.2.6) (4.12.2)\nRequirement already satisfied: orjson<4.0.0,>=3.9.14 in /local_disk0/.ephemeral_nfs/envs/pythonEnv-611d4d2b-c519-4166-bf96-a8d17ff0fea9/lib/python3.10/site-packages (from langsmith<0.2.0,>=0.1.0->langchain-community==0.2.6) (3.10.6)\nRequirement already satisfied: idna<4,>=2.5 in /databricks/python3/lib/python3.10/site-packages (from requests<3,>=2->langchain-community==0.2.6) (3.3)\nRequirement already satisfied: certifi>=2017.4.17 in /databricks/python3/lib/python3.10/site-packages (from requests<3,>=2->langchain-community==0.2.6) (2022.9.14)\nRequirement already satisfied: urllib3<1.27,>=1.21.1 in /databricks/python3/lib/python3.10/site-packages (from requests<3,>=2->langchain-community==0.2.6) (1.26.11)\nRequirement already satisfied: greenlet!=0.4.17 in /databricks/python3/lib/python3.10/site-p\n\n*** WARNING: max output size exceeded, skipping output. ***\n\n pypdf, pypandoc, proto-plus, portalocker, Pillow, omegaconf, olefile, numpy, lxml, langdetect, jsonpath-python, humanfriendly, et-xmlfile, emoji, Deprecated, charset-normalizer, certifi, backoff, unstructured.pytesseract, python-pptx, python-oxmsg, python-docx, pillow-heif, pikepdf, pdf2image, openpyxl, opencv-python, onnx, marshmallow-enum, iopath, google-auth, dataclasses-json, coloredlogs, unstructured-client, pycocotools, pdfminer.six, onnxruntime, google-api-core, unstructured, timm, pdfplumber, layoutparser, google-cloud-vision, effdet, unstructured-inference\n  Attempting uninstall: urllib3\n    Found existing installation: urllib3 1.26.11\n    Not uninstalling urllib3 at /databricks/python3/lib/python3.10/site-packages, outside environment /local_disk0/.ephemeral_nfs/envs/pythonEnv-611d4d2b-c519-4166-bf96-a8d17ff0fea9\n    Can't uninstall 'urllib3'. No files were found to uninstall.\n  Attempting uninstall: Pillow\n    Found existing installation: Pillow 9.2.0\n    Not uninstalling pillow at /databricks/python3/lib/python3.10/site-packages, outside environment /local_disk0/.ephemeral_nfs/envs/pythonEnv-611d4d2b-c519-4166-bf96-a8d17ff0fea9\n    Can't uninstall 'Pillow'. No files were found to uninstall.\n  Attempting uninstall: numpy\n    Found existing installation: numpy 1.21.5\n    Not uninstalling numpy at /databricks/python3/lib/python3.10/site-packages, outside environment /local_disk0/.ephemeral_nfs/envs/pythonEnv-611d4d2b-c519-4166-bf96-a8d17ff0fea9\n    Can't uninstall 'numpy'. No files were found to uninstall.\n  Attempting uninstall: charset-normalizer\n    Found existing installation: charset-normalizer 2.0.4\n    Not uninstalling charset-normalizer at /databricks/python3/lib/python3.10/site-packages, outside environment /local_disk0/.ephemeral_nfs/envs/pythonEnv-611d4d2b-c519-4166-bf96-a8d17ff0fea9\n    Can't uninstall 'charset-normalizer'. No files were found to uninstall.\n  Attempting uninstall: certifi\n    Found existing installation: certifi 2022.9.14\n    Not uninstalling certifi at /databricks/python3/lib/python3.10/site-packages, outside environment /local_disk0/.ephemeral_nfs/envs/pythonEnv-611d4d2b-c519-4166-bf96-a8d17ff0fea9\n    Can't uninstall 'certifi'. No files were found to uninstall.\n  Attempting uninstall: google-auth\n    Found existing installation: google-auth 1.33.0\n    Not uninstalling google-auth at /databricks/python3/lib/python3.10/site-packages, outside environment /local_disk0/.ephemeral_nfs/envs/pythonEnv-611d4d2b-c519-4166-bf96-a8d17ff0fea9\n    Can't uninstall 'google-auth'. No files were found to uninstall.\n  Attempting uninstall: dataclasses-json\n    Found existing installation: dataclasses-json 0.5.14\n    Not uninstalling dataclasses-json at /databricks/python3/lib/python3.10/site-packages, outside environment /local_disk0/.ephemeral_nfs/envs/pythonEnv-611d4d2b-c519-4166-bf96-a8d17ff0fea9\n    Can't uninstall 'dataclasses-json'. No files were found to uninstall.\n  Attempting uninstall: google-api-core\n    Found existing installation: google-api-core 2.8.2\n    Not uninstalling google-api-core at /databricks/python3/lib/python3.10/site-packages, outside environment /local_disk0/.ephemeral_nfs/envs/pythonEnv-611d4d2b-c519-4166-bf96-a8d17ff0fea9\n    Can't uninstall 'google-api-core'. No files were found to uninstall.\nERROR: pip's dependency resolver does not currently take into account all the packages that are installed. This behaviour is the source of the following dependency conflicts.\npetastorm 0.12.1 requires pyspark>=2.1.0, which is not installed.\ndatabricks-feature-store 0.14.3 requires pyspark<4,>=3.1.2, which is not installed.\nydata-profiling 4.2.0 requires numpy<1.24,>=1.16.0, but you have numpy 1.24.4 which is incompatible.\ntensorflow-cpu 2.11.1 requires protobuf<3.20,>=3.9.2, but you have protobuf 3.20.3 which is incompatible.\nnumba 0.55.1 requires numpy<1.22,>=1.18, but you have numpy 1.24.4 which is incompatible.\nmlflow-skinny 2.5.0 requires packaging<24, but you have packaging 24.1 which is incompatible.\nmleap 0.20.0 requires scikit-learn<0.23.0,>=0.22.0, but you have scikit-learn 1.1.1 which is incompatible.\nSuccessfully installed Deprecated-1.2.14 Pillow-10.4.0 XlsxWriter-3.2.0 antlr4-python3-runtime-4.9.3 backoff-2.2.1 certifi-2024.7.4 charset-normalizer-2.1.1 coloredlogs-15.0.1 dataclasses-json-0.6.7 effdet-0.4.1 emoji-2.12.1 et-xmlfile-1.1.0 filetype-1.2.0 google-api-core-2.19.1 google-auth-2.32.0 google-cloud-vision-3.7.4 humanfriendly-10.0 iopath-0.1.10 jsonpath-python-1.0.6 langdetect-1.0.9 layoutparser-0.3.4 lxml-5.2.2 marshmallow-enum-1.5.1 mpmath-1.3.0 numpy-1.24.4 olefile-0.47 omegaconf-2.3.0 onnx-1.16.2 onnxruntime-1.18.1 opencv-python-4.10.0.84 openpyxl-3.1.5 pdf2image-1.17.0 pdfminer.six-20231228 pdfplumber-0.11.2 pikepdf-9.1.0 pillow-heif-0.18.0 portalocker-2.10.1 proto-plus-1.24.0 pycocotools-2.0.8 pypandoc-1.13 pypdf-4.3.1 pypdfium2-4.30.0 python-docx-1.1.2 python-iso639-2024.4.27 python-magic-0.4.27 python-multipart-0.0.9 python-oxmsg-0.0.1 python-pptx-0.6.23 rapidfuzz-3.9.5 sympy-1.13.1 timm-1.0.8 unstructured-0.15.1 unstructured-client-0.8.1 unstructured-inference-0.7.36 unstructured.pytesseract-0.3.12 urllib3-1.26.19 xlrd-2.0.1\n\u001B[43mNote: you may need to restart the kernel using dbutils.library.restartPython() to use updated packages.\u001B[0m\n\u001B[43mNote: you may need to restart the kernel using dbutils.library.restartPython() to use updated packages.\u001B[0m\nCollecting chromadb==0.5.3\n  Downloading chromadb-0.5.3-py3-none-any.whl (559 kB)\n     ━━━━━━━━━━━━━━━━━━━━━━━━━━━━━━━━━━━━━━━ 559.5/559.5 kB 9.3 MB/s eta 0:00:00\nCollecting opentelemetry-api>=1.2.0\n  Downloading opentelemetry_api-1.26.0-py3-none-any.whl (61 kB)\n     ━━━━━━━━━━━━━━━━━━━━━━━━━━━━━━━━━━━━━━━━ 61.5/61.5 kB 6.0 MB/s eta 0:00:00\nRequirement already satisfied: pydantic>=1.9 in /databricks/python3/lib/python3.10/site-packages (from chromadb==0.5.3) (1.10.6)\nRequirement already satisfied: onnxruntime>=1.14.1 in /local_disk0/.ephemeral_nfs/envs/pythonEnv-611d4d2b-c519-4166-bf96-a8d17ff0fea9/lib/python3.10/site-packages (from chromadb==0.5.3) (1.18.1)\nRequirement already satisfied: fastapi>=0.95.2 in /databricks/python3/lib/python3.10/site-packages (from chromadb==0.5.3) (0.98.0)\nRequirement already satisfied: numpy<2.0.0,>=1.22.5 in /local_disk0/.ephemeral_nfs/envs/pythonEnv-611d4d2b-c519-4166-bf96-a8d17ff0fea9/lib/python3.10/site-packages (from chromadb==0.5.3) (1.24.4)\nCollecting kubernetes>=28.1.0\n  Downloading kubernetes-30.1.0-py2.py3-none-any.whl (1.7 MB)\n     ━━━━━━━━━━━━━━━━━━━━━━━━━━━━━━━━━━━━━━━━ 1.7/1.7 MB 20.5 MB/s eta 0:00:00\nRequirement already satisfied: importlib-resources in /databricks/python3/lib/python3.10/site-packages (from chromadb==0.5.3) (6.0.1)\nCollecting tqdm>=4.65.0\n  Downloading tqdm-4.66.5-py3-none-any.whl (78 kB)\n     ━━━━━━━━━━━━━━━━━━━━━━━━━━━━━━━━━━━━━━━━ 78.4/78.4 kB 6.1 MB/s eta 0:00:00\nCollecting chroma-hnswlib==0.7.3\n  Downloading chroma_hnswlib-0.7.3-cp310-cp310-manylinux_2_17_x86_64.manylinux2014_x86_64.whl (2.4 MB)\n     ━━━━━━━━━━━━━━━━━━━━━━━━━━━━━━━━━━━━━━━━ 2.4/2.4 MB 29.7 MB/s eta 0:00:00\nRequirement already satisfied: httpx>=0.27.0 in /local_disk0/.ephemeral_nfs/envs/pythonEnv-611d4d2b-c519-4166-bf96-a8d17ff0fea9/lib/python3.10/site-packages (from chromadb==0.5.3) (0.27.0)\nCollecting opentelemetry-exporter-otlp-proto-grpc>=1.2.0\n  Downloading opentelemetry_exporter_otlp_proto_grpc-1.26.0-py3-none-any.whl (18 kB)\nCollecting grpcio>=1.58.0\n  Downloading grpcio-1.65.4-cp310-cp310-manylinux_2_17_x86_64.manylinux2014_x86_64.whl (5.7 MB)\n     ━━━━━━━━━━━━━━━━━━━━━━━━━━━━━━━━━━━━━━━━ 5.7/5.7 MB 47.4 MB/s eta 0:00:00\nCollecting pypika>=0.48.9\n  Downloading PyPika-0.48.9.tar.gz (67 kB)\n     ━━━━━━━━━━━━━━━━━━━━━━━━━━━━━━━━━━━━━━━━ 67.3/67.3 kB 9.3 MB/s eta 0:00:00\n  Installing build dependencies: started\n  Installing build dependencies: finished with status 'done'\n  Getting requirements to build wheel: started\n  Getting requirements to build wheel: finished with status 'done'\n  Preparing metadata (pyproject.toml): started\n  Preparing metadata (pyproject.toml): finished with status 'done'\nCollecting build>=1.0.3\n  Downloading build-1.2.1-py3-none-any.whl (21 kB)\nRequirement already satisfied: uvicorn[standard]>=0.18.3 in /databricks/python3/lib/python3.10/site-packages (from chromadb==0.5.3) (0.23.2)\nCollecting opentelemetry-sdk>=1.2.0\n  Downloading opentelemetry_sdk-1.26.0-py3-none-any.whl (109 kB)\n     ━━━━━━━━━━━━━━━━━━━━━━━━━━━━━━━━━━━━━━ 109.5/109.5 kB 15.6 MB/s eta 0:00:00\nCollecting bcrypt>=4.0.1\n  Downloading bcrypt-4.2.0-cp39-abi3-manylinux_2_28_x86_64.whl (273 kB)\n     ━━━━━━━━━━━━━━━━━━━━━━━━━━━━━━━━━━━━━━ 273.8/273.8 kB 24.7 MB/s eta 0:00:00\nRequirement already satisfied: orjson>=3.9.12 in /local_disk0/.ephemeral_nfs/envs/pythonEnv-611d4d2b-c519-4166-bf96-a8d17ff0fea9/lib/python3.10/site-packages (from chromadb==0.5.3) (3.10.6)\nCollecting overrides>=7.3.1\n  Downloading overrides-7.7.0-py3-none-any.whl (17 kB)\nCollecting opentelemetry-instrumentation-fastapi>=0.41b0\n  Downloading opentelemetry_instrumentation_fastapi-0.47b0-py3-none-any.whl (11 kB)\nRequirement already satisfied: tokenizers>=0.13.2 in /databricks/python3/lib/python3.10/site-packages (from chromadb==0.5.3) (0.13.3)\nRequirement already satisfied: typing-extensions>=4.5.0 in /local_disk0/.ephemeral_nfs/cluster_libraries/python/lib/python3.10/site-packages (from chromadb==0.5.3) (4.12.2)\nCollecting posthog>=2.4.0\n  Downloading posthog-3.5.0-py2.py3-none-any.whl (41 kB)\n     ━━━━━━━━━━━━━━━━━━━━━━━━━━━━━━━━━━━━━━━━ 41.3/41.3 kB 5.5 MB/s eta 0:00:00\nRequirement already satisfied: PyYAML>=6.0.0 in /databricks/python3/lib/python3.10/site-packages (from chromadb==0.5.3) (6.0)\nCollecting tenacity>=8.2.3\n  Downloading tenacity-9.0.0-py3-none-any.whl (28 kB)\nCollecting typer>=0.9.0\n  Downloading typer-0.12.3-py3-none-any.whl (47 kB)\n     ━━━━━━━━━━━━━━━━━━━━━━━━━━━━━━━━━━━━━━━━ 47.2/47.2 kB 6.0 MB/s eta 0:00:00\nRequirement already satisfied: requests>=2.28 in /databricks/python3/lib/python3.10/site-packages (from chromadb==0.5.3) (2.28.1)\nCollecting mmh3>=4.0.1\n  Downloading mmh3-4.1.0-cp310-cp310-manylinux_2_5_x86_64.manylinux1_x86_64.manylinux_2_17_x86_64.manylinux2014_x86_64.whl (67 kB)\n     ━━━━━━━━━━━━━━━━━━━━━━━━━━━━━━━━━━━━━━━━ 67.6/67.6 kB 7.7 MB/s eta 0:00:00\nRequirement already satisfied: tomli>=1.1.0 in /databricks/python3/lib/python3.10/site-packages (from build>=1.0.3->chromadb==0.5.3) (2.0.1)\nRequirement already satisfied: packaging>=19.1 in /local_disk0/.ephemeral_nfs/envs/pythonEnv-611d4d2b-c519-4166-bf96-a8d17ff0fea9/lib/python3.10/site-packages (from build>=1.0.3->chromadb==0.5.3) (24.1)\nCollecting pyproject_hooks\n  Downloading pyproject_hooks-1.1.0-py3-none-any.whl (9.2 kB)\nRequirement already satisfied: starlette<0.28.0,>=0.27.0 in /databricks/python3/lib/python3.10/site-packages (from fastapi>=0.95.2->chromadb==0.5.3) (0.27.0)\nRequirement already satisfied: sniffio in /databricks/python3/lib/python3.10/site-packages (from httpx>=0.27.0->chromadb==0.5.3) (1.2.0)\nRequirement already satisfied: idna in /databricks/python3/lib/python3.10/site-packages (from httpx>=0.27.0->chromadb==0.5.3) (3.3)\nRequirement already satisfied: anyio in /databricks/python3/lib/python3.10/site-packages (from httpx>=0.27.0->chromadb==0.5.3) (3.5.0)\nRequirement already satisfied: certifi in /local_disk0/.ephemeral_nfs/envs/pythonEnv-611d4d2b-c519-4166-bf96-a8d17ff0fea9/lib/python3.10/site-packages (from httpx>=0.27.0->chromadb==0.5.3) (2024.7.4)\nRequirement already satisfied: httpcore==1.* in /local_disk0/.ephemeral_nfs/envs/pythonEnv-611d4d2b-c519-4166-bf96-a8d17ff0fea9/lib/python3.10/site-packages (from httpx>=0.27.0->chromadb==0.5.3) (1.0.5)\nRequirement already satisfied: h11<0.15,>=0.13 in /databricks/python3/lib/python3.10/site-packages (from httpcore==1.*->httpx>=0.27.0->chromadb==0.5.3) (0.14.0)\nCollecting oauthlib>=3.2.2\n  Downloading oauthlib-3.2.2-py3-none-any.whl (151 kB)\n     ━━━━━━━━━━━━━━━━━━━━━━━━━━━━━━━━━━━━━━ 151.7/151.7 kB 18.9 MB/s eta 0:00:00\nRequirement already satisfied: python-dateutil>=2.5.3 in /databricks/python3/lib/python3.10/site-packages (from kubernetes>=28.1.0->chromadb==0.5.3) (2.8.2)\nRequirement already satisfied: urllib3>=1.24.2 in /local_disk0/.ephemeral_nfs/envs/pythonEnv-611d4d2b-c519-4166-bf96-a8d17ff0fea9/lib/python3.10/site-packages (from kubernetes>=28.1.0->chromadb==0.5.3) (1.26.19)\nRequirement already satisfied: six>=1.9.0 in /usr/lib/python3/dist-packages (from kubernetes>=28.1.0->chromadb==0.5.3) (1.16.0)\nRequirement already satisfied: google-auth>=1.0.1 in /local_disk0/.ephemeral_nfs/envs/pythonEnv-611d4d2b-c519-4166-bf96-a8d17ff0fea9/lib/python3.10/site-packages (from kubernetes>=28.1.0->chromadb==0.5.3) (2.32.0)\nRequirement already satisfied: requests-oauthlib in /databricks/python3/lib/python3.10/site-packages (from kubernetes>=28.1.0->chromadb==0.5.3) (1.3.1)\nRequirement already satisfied: websocket-client!=0.40.0,!=0.41.*,!=0.42.*,>=0.32.0 in /databricks/python3/lib/python3.10/site-packages (from kubernetes>=28.1.0->chromadb==0.5.3) (0.58.0)\nRequirement already satisfied: protobuf in /local_disk0/.ephemeral_nfs/envs/pythonEnv-611d4d2b-c519-4166-bf96-a8d17ff0fea9/lib/python3.10/site-packages (from onnxruntime>=1.14.1->chromadb==0.5.3) (3.20.3)\nRequirement already satisfied: flatbuffers in /databricks/python3/lib/python3.10/site-packages (from onnxruntime>=1.14.1->chromadb==0.5.3) (23.5.26)\nRequirement already satisfied: coloredlogs in /local_disk0/.ephemeral_nfs/envs/pythonEnv-611d4d2b-c519-4166-bf96-a8d17ff0fea9/lib/python3.10/site-packages (from onnxruntime>=1.14.1->chromadb==0.5.3) (15.0.1)\nRequirement already satisfied: sympy in /local_disk0/.ephemeral_nfs/envs/pythonEnv-611d4d2b-c519-4166-bf96-a8d17ff0fea9/lib/python3.10/site-packages (from onnxruntime>=1.14.1->chromadb==0.5.3) (1.13.1)\nCollecting importlib-metadata<=8.0.0,>=6.0\n  Downloading importlib_metadata-8.0.0-py3-none-any.whl (24 kB)\nRequirement already satisfied: deprecated>=1.2.6 in /local_disk0/.ephemeral_nfs/envs/pythonEnv-611d4d2b-c519-4166-bf96-a8d17ff0fea9/lib/python3.10/site-packages (from opentelemetry-api>=1.2.0->chromadb==0.5.3) (1.2.14)\nCollecting opentelemetry-proto==1.26.0\n  Downloading opentelemetry_proto-1.26.0-py3-none-any.whl (52 kB)\n     ━━━━━━━━━━━━━━━━━━━━━━━━━━━━━━━━━━━━━━━━ 52.5/52.5 kB 7.8 MB/s eta 0:00:00\nCollecting opentelemetry-exporter-otlp-proto-common==1.26.0\n  Downloading opentelemetry_exporter_otlp_proto_common-1.26.0-py3-none-any.whl (17 kB)\nRequirement already satisfied: googleapis-common-protos~=1.52 in /databricks/python3/lib/python3.10/site-packages (from opentelemetry-exporter-otlp-proto-grpc>=1.2.0->chromadb==0.5.3) (1.56.4)\nCollecting opentelemetry-instrumentation-asgi==0.47b0\n  Downloading opentelemetry_instrumentation_asgi-0.47b0-py3-none-any.whl (15 kB)\nCollecting opentelemetry-semantic-conventions==0.47b0\n  Downloading opentelemetry_semantic_conventions-0.47b0-py3-none-any.whl (138 kB)\n     ━━━━━━━━━━━━━━━━━━━━━━━━━━━━━━━━━━━━━━ 138.0/138.0 kB 19.9 MB/s eta 0:00:00\nCollecting opentelemetry-instrumentation==0.47b0\n  Downloading opentelemetry_instrumentation-0.47b0-py3-none-any.whl (29 kB)\nCollecting opentelemetry-util-http==0.47b0\n  Downloading opentelemetry_util_http-0.47b0-py3-none-any.whl (6.9 kB)\nRequirement already satisfied: wrapt<2.0.0,>=1.0.0 in /databricks/python3/lib/python3.10/site-packages (from opentelemetry-instrumentation==0.47b0->opentelemetry-instrumentation-fastapi>=0.41b0->chromadb==0.5.3) (1.14.1)\nRequirement already satisfied: setuptools>=16.0 in /databricks/python3/lib/python3.10/site-packages (from opentelemetry-instrumentation==0.47b0->opentelemetry-instrumentation-fastapi>=0.41b0->chromadb==0.5.3) (63.4.1)\nCollecting asgiref~=3.0\n  Downloading asgiref-3.8.1-py3-none-any.whl (23 kB)\nRequirement already satisfied: backoff>=1.10.0 in /local_disk0/.ephemeral_nfs/envs/pythonEnv-611d4d2b-c519-4166-bf96-a8d17ff0fea9/lib/python3.10/site-packages (from posthog>=2.4.0->chromadb==0.5.3) (2.2.1)\nCollecting monotonic>=1.5\n  Downloading monotonic-1.6-py2.py3-none-any.whl (8.2 kB)\nRequirement already satisfied: charset-normalizer<3,>=2 in /local_disk0/.ephemeral_nfs/envs/pythonEnv-611d4d2b-c519-4166-bf96-a8d17ff0fea9/lib/python3.10/site-packages (from requests>=2.28->chromadb==0.5.3) (2.1.1)\nRequirement already satisfied: click>=8.0.0 in /databricks/python3/lib/python3.10/site-packages (from typer>=0.9.0->chromadb==0.5.3) (8.0.4)\nCollecting shellingham>=1.3.0\n  Downloading shellingham-1.5.4-py2.py3-none-any.whl (9.8 kB)\nCollecting rich>=10.11.0\n  Downloading rich-13.7.1-py3-none-any.whl (240 kB)\n     ━━━━━━━━━━━━━━━━━━━━━━━━━━━━━━━━━━━━━━ 240.7/240.7 kB 28.4 MB/s eta 0:00:00\nRequirement already satisfied: python-dotenv>=0.13 in /databricks/python3/lib/python3.10/site-packages (from uvicorn[standard]>=0.18.3->chromadb==0.5.3) (1.0.0)\nRequirement already satisfied: uvloop!=0.15.0,!=0.15.1,>=0.14.0 in /databricks/python3/lib/python3.10/site-packages (from uvicorn[standard]>=0.18.3->chromadb==0.5.3) (0.17.0)\nRequirement already satisfied: watchfiles>=0.13 in /databricks/python3/lib/python3.10/site-packages (from uvicorn[standard]>=0.18.3->chromadb==0.5.3) (0.19.0)\nRequirement already satisfied: httptools>=0.5.0 in /databricks/python3/lib/python3.10/site-packages (from uvicorn[standard]>=0.18.3->chromadb==0.5.3) (0.6.0)\nRequirement already satisfied: websockets>=10.4 in /databricks/python3/lib/python3.10/site-packages (from uvicorn[standard]>=0.18.3->chromadb==0.5.3) (11.0.3)\nRequirement already satisfied: pyasn1-modules>=0.2.1 in /databricks/python3/lib/python3.10/site-packages (from google-auth>=1.0.1->kubernetes>=28.1.0->chromadb==0.5.3) (0.2.8)\nRequirement already satisfied: cachetools<6.0,>=2.0.0 in /databricks/python3/lib/python3.10/site-packages (from google-auth>=1.0.1->kubernetes>=28.1.0->chromadb==0.5.3) (4.2.4)\nRequirement already satisfied: rsa<5,>=3.1.4 in /databricks/python3/lib/python3.10/site-packages (from google-auth>=1.0.1->kubernetes>=28.1.0->chromadb==0.5.3) (4.9)\nRequirement already satisfied: zipp>=0.5 in /databricks/python3/lib/python3.10/site-packages (from importlib-metadata<=8.0.0,>=6.0->opentelemetry-api>=1.2.0->chromadb==0.5.3) (3.8.0)\nCollecting markdown-it-py>=2.2.0\n  Downloading markdown_it_py-3.0.0-py3-none-any.whl (87 kB)\n     ━━━━━━━━━━━━━━━━━━━━━━━━━━━━━━━━━━━━━━━━ 87.5/87.5 kB 10.2 MB/s eta 0:00:00\nCollecting pygments<3.0.0,>=2.13.0\n  Downloading pygments-2.18.0-py3-none-any.whl (1.2 MB)\n     ━━━━━━━━━━━━━━━━━━━━━━━━━━━━━━━━━━━━━━━━ 1.2/1.2 MB 38.9 MB/s eta 0:00:00\nRequirement already satisfied: humanfriendly>=9.1 in /local_disk0/.ephemeral_nfs/envs/pythonEnv-611d4d2b-c519-4166-bf96-a8d17ff0fea9/lib/python3.10/site-packages (from coloredlogs->onnxruntime>=1.14.1->chromadb==0.5.3) (10.0)\nRequirement already satisfied: mpmath<1.4,>=1.1.0 in /local_disk0/.ephemeral_nfs/envs/pythonEnv-611d4d2b-c519-4166-bf96-a8d17ff0fea9/lib/python3.10/site-packages (from sympy->onnxruntime>=1.14.1->chromadb==0.5.3) (1.3.0)\nCollecting mdurl~=0.1\n  Downloading mdurl-0.1.2-py3-none-any.whl (10.0 kB)\nRequirement already satisfied: pyasn1<0.5.0,>=0.4.6 in /databricks/python3/lib/python3.10/site-packages (from pyasn1-modules>=0.2.1->google-auth>=1.0.1->kubernetes>=28.1.0->chromadb==0.5.3) (0.4.8)\nBuilding wheels for collected packages: pypika\n  Building wheel for pypika (pyproject.toml): started\n  Building wheel for pypika (pyproject.toml): finished with status 'done'\n  Created wheel for pypika: filename=PyPika-0.48.9-py2.py3-none-any.whl size=53723 sha256=ac608faa7e8399c5a3e8b7579d5dc19d5d3bccae6f1e36416aa2b27570be6c08\n  Stored in directory: /root/.cache/pip/wheels/e1/26/51/d0bffb3d2fd82256676d7ad3003faea3bd6dddc9577af665f4\nSuccessfully built pypika\nInstalling collected packages: pypika, monotonic, mmh3, tqdm, tenacity, shellingham, pyproject_hooks, pygments, overrides, opentelemetry-util-http, opentelemetry-proto, oauthlib, mdurl, importlib-metadata, grpcio, chroma-hnswlib, bcrypt, asgiref, posthog, opentelemetry-exporter-otlp-proto-common, opentelemetry-api, markdown-it-py, build, rich, opentelemetry-semantic-conventions, opentelemetry-instrumentation, kubernetes, typer, opentelemetry-sdk, opentelemetry-instrumentation-asgi, opentelemetry-instrumentation-fastapi, opentelemetry-exporter-otlp-proto-grpc, chromadb\n  Attempting uninstall: tqdm\n    Found existing installation: tqdm 4.64.1\n    Not uninstalling tqdm at /databricks/python3/lib/python3.10/site-packages, outside environment /local_disk0/.ephemeral_nfs/envs/pythonEnv-611d4d2b-c519-4166-bf96-a8d17ff0fea9\n    Can't uninstall 'tqdm'. No files were found to uninstall.\n  Attempting uninstall: tenacity\n    Found existing installation: tenacity 8.1.0\n    Not uninstalling tenacity at /databricks/python3/lib/python3.10/site-packages, outside environment /local_disk0/.ephemeral_nfs/envs/pythonEnv-611d4d2b-c519-4166-bf96-a8d17ff0fea9\n    Can't uninstall 'tenacity'. No files were found to uninstall.\n  Attempting uninstall: pygments\n    Found existing installation: Pygments 2.11.2\n    Not uninstalling pygments at /databricks/python3/lib/python3.10/site-packages, outside environment /local_disk0/.ephemeral_nfs/envs/pythonEnv-611d4d2b-c519-4166-bf96-a8d17ff0fea9\n    Can't uninstall 'Pygments'. No files were found to uninstall.\n  Attempting uninstall: oauthlib\n    Found existing installation: oauthlib 3.2.0\n    Not uninstalling oauthlib at /usr/lib/python3/dist-packages, outside environment /local_disk0/.ephemeral_nfs/envs/pythonEnv-611d4d2b-c519-4166-bf96-a8d17ff0fea9\n    Can't uninstall 'oauthlib'. No files were found to uninstall.\n  Attempting uninstall: importlib-metadata\n    Found existing installation: importlib-metadata 4.11.3\n    Not uninstalling importlib-metadata at /databricks/python3/lib/python3.10/site-packages, outside environment /local_disk0/.ephemeral_nfs/envs/pythonEnv-611d4d2b-c519-4166-bf96-a8d17ff0fea9\n    Can't uninstall 'importlib-metadata'. No files were found to uninstall.\n  Attempting uninstall: grpcio\n    Found existing installation: grpcio 1.48.1\n    Not uninstalling grpcio at /databricks/python3/lib/python3.10/site-packages, outside environment /local_disk0/.ephemeral_nfs/envs/pythonEnv-611d4d2b-c519-4166-bf96-a8d17ff0fea9\n    Can't uninstall 'grpcio'. No files were found to uninstall.\n  Attempting uninstall: bcrypt\n    Found existing installation: bcrypt 3.2.0\n    Not uninstalling bcrypt at /databricks/python3/lib/python3.10/site-packages, outside environment /local_disk0/.ephemeral_nfs/envs/pythonEnv-611d4d2b-c519-4166-bf96-a8d17ff0fea9\n    Can't uninstall 'bcrypt'. No files were found to uninstall.\n  Attempting uninstall: typer\n    Found existing installation: typer 0.7.0\n    Not uninstalling typer at /databricks/python3/lib/python3.10/site-packages, outside environment /local_disk0/.ephemeral_nfs/envs/pythonEnv-611d4d2b-c519-4166-bf96-a8d17ff0fea9\n    Can't uninstall 'typer'. No files were found to uninstall.\nERROR: pip's dependency resolver does not currently take into account all the packages that are installed. This behaviour is the source of the following dependency conflicts.\ndatabricks-feature-store 0.14.3 requires pyspark<4,>=3.1.2, which is not installed.\nlangchain 0.2.6 requires tenacity!=8.4.0,<9.0.0,>=8.1.0, but you have tenacity 9.0.0 which is incompatible.\nlangchain-core 0.2.28 requires tenacity!=8.4.0,<9.0.0,>=8.1.0, but you have tenacity 9.0.0 which is incompatible.\nlangchain-community 0.2.6 requires tenacity!=8.4.0,<9.0.0,>=8.1.0, but you have tenacity 9.0.0 which is incompatible.\nydata-profiling 4.2.0 requires numpy<1.24,>=1.16.0, but you have numpy 1.24.4 which is incompatible.\ntensorflow-cpu 2.11.1 requires protobuf<3.20,>=3.9.2, but you have protobuf 3.20.3 which is incompatible.\nspacy 3.5.3 requires typer<0.8.0,>=0.3.0, but you have typer 0.12.3 which is incompatible.\nmlflow-skinny 2.5.0 requires importlib-metadata!=4.7.0,<7,>=3.7.0, but you have importlib-metadata 8.0.0 which is incompatible.\nmlflow-skinny 2.5.0 requires packaging<24, but you have packaging 24.1 which is incompatible.\nlangchainplus-sdk 0.0.20 requires tenacity<9.0.0,>=8.1.0, but you have tenacity 9.0.0 which is incompatible.\nSuccessfully installed asgiref-3.8.1 bcrypt-4.2.0 build-1.2.1 chroma-hnswlib-0.7.3 chromadb-0.5.3 grpcio-1.65.4 importlib-metadata-8.0.0 kubernetes-30.1.0 markdown-it-py-3.0.0 mdurl-0.1.2 mmh3-4.1.0 monotonic-1.6 oauthlib-3.2.2 opentelemetry-api-1.26.0 opentelemetry-exporter-otlp-proto-common-1.26.0 opentelemetry-exporter-otlp-proto-grpc-1.26.0 opentelemetry-instrumentation-0.47b0 opentelemetry-instrumentation-asgi-0.47b0 opentelemetry-instrumentation-fastapi-0.47b0 opentelemetry-proto-1.26.0 opentelemetry-sdk-1.26.0 opentelemetry-semantic-conventions-0.47b0 opentelemetry-util-http-0.47b0 overrides-7.7.0 posthog-3.5.0 pygments-2.18.0 pypika-0.48.9 pyproject_hooks-1.1.0 rich-13.7.1 shellingham-1.5.4 tenacity-9.0.0 tqdm-4.66.5 typer-0.12.3\n\u001B[43mNote: you may need to restart the kernel using dbutils.library.restartPython() to use updated packages.\u001B[0m\n"
     ]
    }
   ],
   "source": [
    "%pip install transformers\n",
    "%pip install protobuf==3.20.*\n",
    "%pip install poppler-utils\n",
    "%pip install langchain==0.2.6\n",
    "%pip install langchain-core==0.2.6\n",
    "%pip install langchain-openai==0.1.13\n",
    "%pip install langchain-community==0.2.6\n",
    "%pip install langchain unstructured[all-docs] pydantic lxml\n",
    "%pip install chromadb==0.5.3\n",
    "dbutils.library.restartPython()"
   ]
  },
  {
   "cell_type": "markdown",
   "metadata": {
    "application/vnd.databricks.v1+cell": {
     "cellMetadata": {},
     "inputWidgets": {},
     "nuid": "23a870a9-a09a-4080-a346-ae804365c104",
     "showTitle": false,
     "title": ""
    }
   },
   "source": [
    "### Path of dataset"
   ]
  },
  {
   "cell_type": "code",
   "execution_count": 0,
   "metadata": {
    "application/vnd.databricks.v1+cell": {
     "cellMetadata": {
      "byteLimit": 2048000,
      "rowLimit": 10000
     },
     "inputWidgets": {},
     "nuid": "0cd2c7b6-359c-4573-b7f4-fec5ec4e4cc3",
     "showTitle": false,
     "title": ""
    }
   },
   "outputs": [],
   "source": [
    "path = \"/Volumes/main/iqvia/my_volume/mnkannualreport_v1.pdf\"\n"
   ]
  },
  {
   "cell_type": "code",
   "execution_count": 0,
   "metadata": {
    "application/vnd.databricks.v1+cell": {
     "cellMetadata": {
      "byteLimit": 2048000,
      "rowLimit": 10000
     },
     "inputWidgets": {},
     "nuid": "568bc3f4-4119-4458-8498-fd9fef92ab19",
     "showTitle": false,
     "title": ""
    }
   },
   "outputs": [
    {
     "output_type": "display_data",
     "data": {
      "application/vnd.jupyter.widget-view+json": {
       "model_id": "856100a9205a4e80b60a10e219ee9576",
       "version_major": 2,
       "version_minor": 0
      },
      "text/plain": [
       "Downloading yolox_l0.05.onnx:   0%|          | 0.00/217M [00:00<?, ?B/s]"
      ]
     },
     "metadata": {},
     "output_type": "display_data"
    },
    {
     "output_type": "display_data",
     "data": {
      "application/vnd.jupyter.widget-view+json": {
       "model_id": "f99193692ef24228adf8e8a5802479f1",
       "version_major": 2,
       "version_minor": 0
      },
      "text/plain": [
       "Downloading config.json:   0%|          | 0.00/1.47k [00:00<?, ?B/s]"
      ]
     },
     "metadata": {},
     "output_type": "display_data"
    },
    {
     "output_type": "display_data",
     "data": {
      "application/vnd.jupyter.widget-view+json": {
       "model_id": "4361781c965f41158615cd3b3902a48b",
       "version_major": 2,
       "version_minor": 0
      },
      "text/plain": [
       "Downloading model.safetensors:   0%|          | 0.00/115M [00:00<?, ?B/s]"
      ]
     },
     "metadata": {},
     "output_type": "display_data"
    },
    {
     "output_type": "display_data",
     "data": {
      "application/vnd.jupyter.widget-view+json": {
       "model_id": "9a1414561830412ba0d7a9d59f6b30aa",
       "version_major": 2,
       "version_minor": 0
      },
      "text/plain": [
       "Downloading model.safetensors:   0%|          | 0.00/46.8M [00:00<?, ?B/s]"
      ]
     },
     "metadata": {},
     "output_type": "display_data"
    }
   ],
   "source": [
    "from typing import Any\n",
    "\n",
    "from pydantic import BaseModel\n",
    "from unstructured.partition.pdf import partition_pdf\n",
    "\n",
    "# Get elements\n",
    "try:\n",
    "    raw_pdf_elements = partition_pdf(\n",
    "        filename=path,\n",
    "        # Using pdf format to find embedded image blocks\n",
    "        extract_images_in_pdf=True,\n",
    "        # Use layout model (YOLOX) to get bounding boxes (for tables) and find titles\n",
    "        # Titles are any sub-section of the document\n",
    "        infer_table_structure=True,\n",
    "        # Post processing to aggregate text once we have the title\n",
    "        chunking_strategy=\"by_title\",\n",
    "        # Chunking params to aggregate text blocks\n",
    "        # Attempt to create a new chunk 3800 chars\n",
    "        # Attempt to keep chunks > 2000 chars\n",
    "        # Hard max on chunks\n",
    "        max_characters=4000,\n",
    "        new_after_n_chars=3800,\n",
    "        combine_text_under_n_chars=2000,\n",
    "        image_output_dir_path=path,\n",
    "    )\n",
    "except ValueError as e:\n",
    "    if str(e) == \"max() arg is an empty sequence\":\n",
    "        print(\"No detectable table structures or cells in the PDF.\")\n",
    "        # Handle the case as needed, e.g., skip processing this PDF\n",
    "    else:\n",
    "        raise  # Re-raise the exception if it's not the specific one we're catching"
   ]
  },
  {
   "cell_type": "markdown",
   "metadata": {
    "application/vnd.databricks.v1+cell": {
     "cellMetadata": {},
     "inputWidgets": {},
     "nuid": "75f8c70a-5531-46b7-864d-8ef7d2fedc7f",
     "showTitle": false,
     "title": ""
    }
   },
   "source": [
    "### Create a dictionary to store counts of each type"
   ]
  },
  {
   "cell_type": "code",
   "execution_count": 0,
   "metadata": {
    "application/vnd.databricks.v1+cell": {
     "cellMetadata": {
      "byteLimit": 2048000,
      "rowLimit": 10000
     },
     "inputWidgets": {},
     "nuid": "6d3e4bc3-149b-44ab-ab23-1513d58046e6",
     "showTitle": false,
     "title": ""
    }
   },
   "outputs": [
    {
     "output_type": "execute_result",
     "data": {
      "text/plain": [
       "{\"<class 'unstructured.documents.elements.CompositeElement'>\": 29,\n",
       " \"<class 'unstructured.documents.elements.Table'>\": 13}"
      ]
     },
     "execution_count": 3,
     "metadata": {},
     "output_type": "execute_result"
    }
   ],
   "source": [
    "\n",
    "category_counts = {}\n",
    "\n",
    "for element in raw_pdf_elements:\n",
    "    category = str(type(element))\n",
    "    if category in category_counts:\n",
    "        category_counts[category] += 1\n",
    "    else:\n",
    "        category_counts[category] = 1\n",
    "\n",
    "# Unique_categories will have unique elements\n",
    "unique_categories = set(category_counts.keys())\n",
    "category_counts"
   ]
  },
  {
   "cell_type": "code",
   "execution_count": 0,
   "metadata": {
    "application/vnd.databricks.v1+cell": {
     "cellMetadata": {
      "byteLimit": 2048000,
      "rowLimit": 10000
     },
     "inputWidgets": {},
     "nuid": "3acae69d-f0d5-4a8c-8b65-2a6acb527394",
     "showTitle": false,
     "title": ""
    }
   },
   "outputs": [
    {
     "output_type": "stream",
     "name": "stdout",
     "output_type": "stream",
     "text": [
      "13\n29\n"
     ]
    }
   ],
   "source": [
    "class Element(BaseModel):\n",
    "    type: str\n",
    "    text: Any\n",
    "\n",
    "# Categorize by type\n",
    "categorized_elements = []\n",
    "for element in raw_pdf_elements:\n",
    "    if \"unstructured.documents.elements.Table\" in str(type(element)):\n",
    "        categorized_elements.append(Element(type=\"table\", text=str(element)))\n",
    "    elif \"unstructured.documents.elements.CompositeElement\" in str(type(element)):\n",
    "        categorized_elements.append(Element(type=\"text\", text=str(element)))\n",
    "\n",
    "# extract the Tables element\n",
    "table_elements = [e for e in categorized_elements if e.type == \"table\"]\n",
    "print(len(table_elements))\n",
    "\n",
    "# extract the Text elements\n",
    "text_elements = [e for e in categorized_elements if e.type == \"text\"]\n",
    "print(len(text_elements))"
   ]
  },
  {
   "cell_type": "markdown",
   "metadata": {
    "application/vnd.databricks.v1+cell": {
     "cellMetadata": {
      "byteLimit": 2048000,
      "rowLimit": 10000
     },
     "inputWidgets": {},
     "nuid": "00d3a070-568a-4467-979d-d01c8f541c79",
     "showTitle": false,
     "title": ""
    }
   },
   "source": [
    "### Text and Table summaries"
   ]
  },
  {
   "cell_type": "code",
   "execution_count": 0,
   "metadata": {
    "application/vnd.databricks.v1+cell": {
     "cellMetadata": {
      "byteLimit": 2048000,
      "rowLimit": 10000
     },
     "inputWidgets": {},
     "nuid": "68ad2f18-8956-4fc7-8908-0e623b41f28b",
     "showTitle": false,
     "title": ""
    }
   },
   "outputs": [],
   "source": [
    "from langchain_core.output_parsers import StrOutputParser\n",
    "from langchain_core.prompts import ChatPromptTemplate\n",
    "from langchain_openai import ChatOpenAI"
   ]
  },
  {
   "cell_type": "code",
   "execution_count": 0,
   "metadata": {
    "application/vnd.databricks.v1+cell": {
     "cellMetadata": {
      "byteLimit": 2048000,
      "rowLimit": 10000
     },
     "inputWidgets": {},
     "nuid": "8ba2b132-ef72-4273-8d9b-64f448b87060",
     "showTitle": false,
     "title": ""
    }
   },
   "outputs": [],
   "source": [
    "# Prompt\n",
    "prompt_text = \"\"\"You are an assistant tasked with summarizing tables and text. \\\n",
    "Give a concise summary of the table or text. Table or text chunk: {element} \"\"\"\n",
    "prompt = ChatPromptTemplate.from_template(prompt_text)"
   ]
  },
  {
   "cell_type": "code",
   "execution_count": 0,
   "metadata": {
    "application/vnd.databricks.v1+cell": {
     "cellMetadata": {
      "byteLimit": 2048000,
      "rowLimit": 10000
     },
     "inputWidgets": {},
     "nuid": "c83a1c11-5c66-4837-bd16-e381bad66b71",
     "showTitle": false,
     "title": ""
    }
   },
   "outputs": [],
   "source": [
    "import os\n",
    "from openai import AzureOpenAI\n",
    "from langchain_core.messages import HumanMessage\n",
    "from langchain_openai import AzureChatOpenAI"
   ]
  },
  {
   "cell_type": "code",
   "execution_count": 0,
   "metadata": {
    "application/vnd.databricks.v1+cell": {
     "cellMetadata": {
      "byteLimit": 2048000,
      "rowLimit": 10000
     },
     "inputWidgets": {},
     "nuid": "232a5ab2-6bb7-4cf3-9a7b-aeaee195cc32",
     "showTitle": false,
     "title": ""
    }
   },
   "outputs": [],
   "source": [
    "# Summary chain\n",
    "model = AzureChatOpenAI(azure_deployment=\"Test\", api_version=\"2024-02-01\")\n",
    "summarize_chain = {\"element\": lambda x: x} | prompt | model | StrOutputParser()"
   ]
  },
  {
   "cell_type": "code",
   "execution_count": 0,
   "metadata": {
    "application/vnd.databricks.v1+cell": {
     "cellMetadata": {
      "byteLimit": 2048000,
      "rowLimit": 10000
     },
     "inputWidgets": {},
     "nuid": "b2b5544d-82f1-4083-add3-4b1fc66e3cf1",
     "showTitle": false,
     "title": ""
    }
   },
   "outputs": [
    {
     "output_type": "execute_result",
     "data": {
      "text/plain": [
       "{\n",
       "  element: RunnableLambda(lambda x: x)\n",
       "}\n",
       "| ChatPromptTemplate(input_variables=['element'], messages=[HumanMessagePromptTemplate(prompt=PromptTemplate(input_variables=['element'], template='You are an assistant tasked with summarizing tables and text. Give a concise summary of the table or text. Table or text chunk: {element} '))])\n",
       "| AzureChatOpenAI(client=<openai.resources.chat.completions.Completions object at 0x7fca6fb5ed10>, async_client=<openai.resources.chat.completions.AsyncCompletions object at 0x7fca6fbbc670>, openai_api_key=SecretStr('**********'), openai_proxy='', azure_endpoint='https://mnkazureopenaitest.openai.azure.com/', deployment_name='Test', openai_api_version='2024-02-01', openai_api_type='azure')\n",
       "| StrOutputParser()"
      ]
     },
     "execution_count": 9,
     "metadata": {},
     "output_type": "execute_result"
    }
   ],
   "source": [
    "summarize_chain"
   ]
  },
  {
   "cell_type": "code",
   "execution_count": 0,
   "metadata": {
    "application/vnd.databricks.v1+cell": {
     "cellMetadata": {
      "byteLimit": 2048000,
      "rowLimit": 10000
     },
     "inputWidgets": {},
     "nuid": "d51f04ca-41c7-45c6-9746-f16dc0983f88",
     "showTitle": false,
     "title": ""
    }
   },
   "outputs": [],
   "source": [
    "# Apply to text\n",
    "texts = [i.text for i in text_elements]\n",
    "text_summaries = summarize_chain.batch(texts, {\"max_concurrency\": 5})"
   ]
  },
  {
   "cell_type": "code",
   "execution_count": 0,
   "metadata": {
    "application/vnd.databricks.v1+cell": {
     "cellMetadata": {
      "byteLimit": 2048000,
      "rowLimit": 10000
     },
     "inputWidgets": {},
     "nuid": "680406e1-1405-42e4-a56c-9c1885798eb6",
     "showTitle": false,
     "title": ""
    }
   },
   "outputs": [
    {
     "output_type": "execute_result",
     "data": {
      "text/plain": [
       "[\"The text provides an overview of a corporation's market leadership, ranking second in the Covered Market (CVM) in FY23. Additionally, it has held the top position in prescriptions over the last six years.\",\n",
       " \"The company ranks third in terms of volume in FY23 and has four Consumer Healthcare brands that are #1 in their categories. It has seen a 2.2X average volume growth from FY18 to FY23 compared to the IPM. The company's operations have a significant scale, with a revenue of INR 8,749 crore, 97% of which is domestic, and an EBITDA of INR 1,913 crore. The company has a large field force of over 15,000 and more than 13,000 stockists. It has 20 brand families worth over INR 100 crore, a cash EPS of INR 40.4, and a cash flow from operations amounting to INR 1,813 crore. The company acknowledges potential risks and uncertainties in its forward-looking statements, which include factors such as competition, government policies, economic conditions, and technological advances.\",\n",
       " 'Mankind Pharma is a company that is actively contributing to the rapid changes in India through its core values of affordability, quality, and accessibility, supported by its in-house manufacturing and R&D capabilities. A significant portion of its domestic sales come from Tier II-IV cities and rural areas, reflecting its strong growth, widespread distribution, and strong brand presence. The company aims to increase its market presence and strengthen its position, particularly in the chronic segment, where it anticipates higher margins and more sustainable revenue. Mankind Pharma has been a market disruptor in terms of pricing, product design, brand building, and market footprint. The company recently had a successful IPO and is accelerating a mix of organic and inorganic expansion strategies to meet societal needs and create value for all stakeholders. The company is driven by affordability, quality, and accessibility at its core.',\n",
       " \"Mankind is a leading company in the Indian Pharmaceutical Market (IPM), primarily focused on domestic operations, with 97% of its revenue from India. Leveraging its strong portfolio of brands, marketing strategies and research and development, the company serves diverse consumer needs and is known for its high-quality healthcare products and services. It has established a strong market presence, particularly in the segments of condoms, emergency contraceptives, pregnancy tests, vitamins, antacids, and anti-acne preparations. The company's wide distribution network and affordable product pricing have contributed to its sustainable growth, outperforming the IPM consistently. Mankind is committed to sustainability, minimizing environmental impact, empowering local communities, and implementing robust corporate governance. It aims to be an innovative pharmaceutical company admired for the affordability, quality, and accessibility of its products.\",\n",
       " 'The company believes in providing superior quality products and is committed to continuous innovation in order to meet societal needs. They prioritize accessibility, aiming to provide high-quality, affordable pharmaceutical products across the market. With a customer-centric approach, they strive to deliver top-quality medicines to those who need them most. They have a pan-India presence, with 25 manufacturing facilities, 6 R&D facilities, and over 13,000 stockists. Despite more than 50% of India’s population residing in villages, they are dedicated to making their products accessible to all.',\n",
       " \"The text refers to the distribution of sales percentages across various therapeutic segments within Mankind's product portfolio. However, without specific data or a table to reference, a detailed summary cannot be provided.\",\n",
       " \"The 2022-23 Annual Report from IQVIA presents data on Mankind's market share percentage in key therapeutic segments.\",\n",
       " \"Without the actual table or specific details about the therapeutic segments and the rankings, it's impossible to provide a concise summary. Please provide the full context or the actual table.\",\n",
       " \"The text is a report on the key milestones of a pharmaceutical company, Mankind. The company started operations in 1995 and entered the chronic pharmaceutical segment in 2004. Between 2007-10, it launched the 'Manforce' and 'Prega News' brands, marking its entry into consumer healthcare. In 2015, its Paonta Sahib facility was inspected by the USFDA for the first time, and between 2018-19, it incorporated subsidiaries in the US and Singapore and launched 'Dydrogesterone'. In 2022, it acquired pharmaceutical formulations brands from Panacea Biotec Pharma Limited and Panacea Biotec Limited in India and Nepal, and entered the transplant and oncology segment. By 2023, it was listed on NSE and BSE. The company's growth strategy involves focusing on chronic segments, volume growth, portfolio diversification, and brand awareness.\",\n",
       " \"The table/text chunk indicates a consistent increase in prescription share from 14.9% in FY18 to 15.5% in FY23. The text also reveals a diversified portfolio strategy that is de-risked across rapidly growing segments. This strategy has resulted in high rankings across both acute and chronic areas and growth outperformance in key therapeutic segments. The source of this data is IQVIA MAT, as of March 23, and it's also mentioned in the Annual Report 2022-23.\",\n",
       " 'The number of brand families valued at over ₹100 crore has grown from 13 in FY20 to 20 in FY23, indicating a focus on creating large scale brands.',\n",
       " 'The corporate overview from Mankind emphasizes their commitment to providing high-quality, affordable healthcare to all Indian citizens. Their strategy includes disrupting the industry and addressing opportunities dynamically. They are introducing a range of medications with high-quality, USFDA-approved Drug Master File (DMF) grade API, aiming to contribute to the overall health and happiness of the Indian population. They are entering FY24 with momentum, looking to increase their share of the chronic segment in the Pharma Business by expanding their presence in existing therapies and investing in new ones. Their R&D is focusing on bio-similars and new drug delivery systems. They have successfully integrated Panacea and expect strong double-digit growth in key brands. Their success is backed by extensive coverage of doctors, stockists, and a large field force.',\n",
       " \"The company is primarily focused on India, with 97% of revenues coming from domestic operations, due to the country's growing economy, increasing urbanization, and rising disposable incomes. They have seen a growth in their chronic disease treatment segments due to lifestyle changes and rising income levels in India. They have launched specialty divisions focused on chronic diseases and acquired brands from Panacea Biotec, leading to an increase in the chronic share to 34% in FY23 from around 28% in FY18. They aim to achieve an operating margin band of 24%-26% in the medium term. The company was originally started 28 years ago in Meerut, Uttar Pradesh and believes in market disruption and innovation.\",\n",
       " 'Mankind, a pharmaceutical company, is committed to sustainability and corporate social responsibility, focusing on sustainable interventions for holistic community development. The company has grown organically, becoming the 4th largest player by value in the Indian pharmaceutical market, and number one in terms of prescriptions over the last six years. This success is attributed to their large doctor coverage, wide distribution network, and strong field force. In 2007, Mankind expanded into the consumer healthcare sector, launching products like Manforce Condoms and Prega News, which are now market leaders. The company plans to leverage its brand dominance to continue growing its Consumer Healthcare Business.',\n",
       " 'In FY23, the Indian Pharma industry returned to normalcy after two years affected by COVID-19. This resulted in moderated growth rates for the industry. Despite this, the Company reported revenues from operations of INR 8,749 crore, showing a 12% YoY growth, exceeding the IPM growth of 7.9%.',\n",
       " \"The Chief Executive Officer of Mankind, Sheetal Arora, reported that the company has consistently exceeded IPM growth by 30% to 50%, elevating its market rank from 8th in FY12 to 4th in FY23. The success is due to an expansive distribution network, large field force, and strong presence among doctors. The company's PCPM increased from INR 5.5 lakh in FY21 to INR 6 lakh in FY23, despite a substantial increase in field force coverage. The company incurred INR 832 crore in expenses during the year, adequately covered by a Cash Flow from Operations of INR 1,813 crore. The company saw a Profit After Tax (PAT) of INR 1,310 crore, with Earnings Per Share of INR 32. The company has a promising strategy to increase its share of revenues from chronic segments and has launched a range of chronic medicines of international-grade quality at Indian prices. The company has also invested in building a strong corporate identity, with 37 brand families achieving revenues of more than INR 50 crore, and 11 brand families exceeding the INR 200 crore revenue milestone in FY23.\",\n",
       " \"The financial performance of Mankind shows a 12% YoY increase in revenue from operations, reaching INR 8,749 crore. The Pharma business outperformed the IPM growth with a secondary sales growth of 11% YoY, and volume growth of 2.6% YoY. Prescription share rose to 15.5% in FY23 from 11.8% in FY14. The Consumer Healthcare Business also grew by 17% YoY with revenues of INR 692 crore. The company aims to manage diseases in collaboration with physicians and patients, and plans to expand into new therapeutic segments and launch new products. Mankind has launched various specialty divisions, acquired Panacea's domestic formulations business, and grown its chronic segment by 14% in FY23. The EBITDA stood at INR 1,913 crore with a margin of 21.9%. The company expects margins to revert to 24% to 26% in the medium term despite facing higher API costs and employee expenses.\",\n",
       " \"The letter to shareholders from Sheetal Arora, CEO of Mankind, and Arjun Juneja, COO, highlights the company's achievements and challenges in the fiscal year 2022-23. The company focuses on affordability, quality, and accessibility in their pharmaceutical and healthcare business. Mankind successfully launched the in-licensed product, Neptaz, which achieved the second-best new product launch in India for FY23. The company reported a Profit After Tax of INR 1,310 crore and earnings per share of INR 32. Despite challenges caused by the Russia-Ukraine war and COVID measures in China, the company managed to stay resilient. The company also aims to become plastic neutral by FY24 and is planning to expand by launching new products, strengthening team capabilities, and improving operations through technology and automation.\",\n",
       " 'The company has seen positive results due to its focus on strengthening its core and optimizing its manufacturing network. It currently operates 25 advanced manufacturing facilities, with a total installed capacity of 42 billion units annually, producing a wide variety of products. The COO thanks customers, shareholders, and the team for their support. The company is working on several innovation programmes, including new drug applications and research into biosimilars. They have a strong focus on data privacy and security and are working towards obtaining ISO27001 certification. A significant competitive advantage is their in-house manufacturing of 75% of their products, allowing greater control over quality and supply chain management. The facilities adhere to strict regulatory standards and have various accreditations. The company plans to increase in-house manufacturing in the future.',\n",
       " \"Mankind, a healthcare company, is committed to serving every Indian through innovative healthcare solutions. The company is focused on sustainable growth, having conserved and recycled significant amounts of water over the past two years and reported zero safety incidents. Mankind invests 2-2.5% of its annual revenues in R&D, with a key success being the production of Dydrogesterone, a synthetic hormone. They are setting up a dedicated manufacturing unit for this hormone, expected to be operational by H1FY24. The company also focuses on sales mix improvement, process optimization, and yield maximization. Mankind's financial capital includes total equity of INR 7,623 crore, net worth of INR 7,435 crore, and total borrowings of INR 163 crore. The company has 25 manufacturing facilities, employs over 22,000 people, has 600+ scientists in 6 R&D units, and spent INR 20 crore on CSR.\",\n",
       " 'The report presents the annual results for the year 2022-23 of a company operating in the pharmaceutical formulation and Consumer Healthcare sectors. The company generated INR 8,749 crore in revenue, INR 1,913 crore in EBITDA, and INR 1,310 crore in PAT with a 25.1% ROCE. More than 300 products were launched, and 3 NCE programmes are under development. The company has also seen a 54% increase in total training hours per employee, and an 85% increase in new female hires. It also has several social initiatives supporting COVID-19 warriors, patients, and migrant workers. The company has made efforts to reduce its environmental impact, with a 4.4% reduction in energy consumption, reduced CO2 emissions, and increased water recycling and conservation efforts.\\n',\n",
       " 'Mankind is a company committed to growth and innovation in the healthcare industry. They have consistently increased their market share in chronic care and have launched new divisions and innovative products. They have also collaborated with other companies to introduce licensed products. They aim to increase their market presence by launching products in select areas and investing in the digital ecosystem for customer connectivity. Since 2007, Mankind has focused on consumer healthcare, offering products like condoms, pregnancy detection kits, contraceptives, antacid powders, vitamin and mineral supplements, and anti-acne preparations. These products have become widely recognized brands in India.',\n",
       " 'The text discusses four major products by a company. Manforce, launched in 2007, is a range of sexual wellness products, including condoms, lubricants and gels, and holds a 30% market share. Prega News, a home pregnancy detection kit launched in 2010, offers 99% accurate results and holds an 82% market share. Unwanted-72, launched in 2007, is an emergency contraceptive tablet with a market share of 62%. Finally, Gas-O-Fast, an antacid powder brand, was launched in 2012 and holds a 7% market share.',\n",
       " 'The HealthO multivitamin brand, which improves energy levels, health, and immunity, ranks as the eighth VMN brand with a market share of 3%. AcneStar, a medicated anti-acne brand switched to OTC in 2016, ranks first in the category with a 35% market share. It combats acne using clindamycin and nicotinamide and includes products like gel, soap, and facewash. The company also manufactures a variety of pharmaceutical formulations, including anti-infectives like penicillin, cephalosporin, macrolides, and quinolones, which make up 15% of their portfolio.',\n",
       " \"The text chunk mentions four different terms: Mahacef, Cefakind, Zenflox, and Cardiovascular. The first three appear to be names of medications, likely antibiotics, while 'Cardiovascular' refers to the heart and blood vessels system in the body. The context or relationship between these terms is not provided in the text.\",\n",
       " 'The text discusses a cardiovascular portfolio that includes angiotin receptor blockers and calcium channel blockers. Specific products mentioned are Amlokind, Amlokind-AT, Telmikind, Telmikind-H, Telmikind-AM, and Neptaz. This information is sourced from IQVIA MAT March 23 and is included in the Annual Report of 2022-23. Additionally, there is mention of gastrointestinal treatment, but no further details are provided.',\n",
       " \"The company's portfolio includes a variety of vitamins, minerals, and nutrients, which make up 8% of the total portfolio. The products include multivitamins and specific nutrients like vitamin B-12, mecobalamin, and arginine combinations.\",\n",
       " 'The table presents different health products including Nurokind Gold, Nurokind, HealthOK, Argipreg, and Respiratory. The Respiratory product constitutes 9% of the total portfolio.',\n",
       " \"The text appears to be a corporate overview from a source named IQVIA MAT dated March 23. However, the information provided is unclear and seems to involve certain calculations or equations. It's impossible to provide a precise summary without further context.\"]"
      ]
     },
     "execution_count": 11,
     "metadata": {},
     "output_type": "execute_result"
    }
   ],
   "source": [
    "text_summaries"
   ]
  },
  {
   "cell_type": "code",
   "execution_count": 0,
   "metadata": {
    "application/vnd.databricks.v1+cell": {
     "cellMetadata": {
      "byteLimit": 2048000,
      "rowLimit": 10000
     },
     "inputWidgets": {},
     "nuid": "f9cdbc08-37a4-43cc-a472-7bc0ac928065",
     "showTitle": false,
     "title": ""
    }
   },
   "outputs": [],
   "source": [
    "# Apply to tables\n",
    "tables = [i.text for i in table_elements]\n",
    "table_summaries = summarize_chain.batch(tables, {\"max_concurrency\": 5})"
   ]
  },
  {
   "cell_type": "code",
   "execution_count": 0,
   "metadata": {
    "application/vnd.databricks.v1+cell": {
     "cellMetadata": {
      "byteLimit": 2048000,
      "rowLimit": 10000
     },
     "inputWidgets": {},
     "nuid": "ff3f0b16-6bb6-4fff-97f4-8235b6e98b7d",
     "showTitle": false,
     "title": ""
    }
   },
   "outputs": [
    {
     "output_type": "execute_result",
     "data": {
      "text/plain": [
       "13"
      ]
     },
     "execution_count": 13,
     "metadata": {},
     "output_type": "execute_result"
    }
   ],
   "source": [
    "len(table_summaries)"
   ]
  },
  {
   "cell_type": "code",
   "execution_count": 0,
   "metadata": {
    "application/vnd.databricks.v1+cell": {
     "cellMetadata": {
      "byteLimit": 2048000,
      "rowLimit": 10000
     },
     "inputWidgets": {},
     "nuid": "4f2bb40d-cf7b-46f6-8eea-9d41a88d256c",
     "showTitle": false,
     "title": ""
    }
   },
   "outputs": [
    {
     "output_type": "execute_result",
     "data": {
      "text/plain": [
       "'Key Therapeutic Segments FY14 FY15 FY16 FY17 FY18 FY19 Value Growth YoY in IPM (%) 7.3 19.3 24.2 9.8 11.3 12.6 Market Share by Value in IPM (%) 3.3 3.5 3.8 3.8 3.9 4.0 Market Ranking by Value in IPM (x) 7 5 4 4 4 4 Covered Market Share in total IPM (%) 64.6 64.1 64.8 63.5 60.2 61.6 Market Share in Covered Market (%) 5.1 5.5 5.8 5.9 6.6 6.5 Covered Market Rank (x) 3 2 2 2 2 2 Volume Share in IPM (%) 3.9 4.3 4.7 4.4 4.8 5.1 Market Ranking by Volume in IPM (x) 6 6 5 5 5 3 Chronic Share in total portfolio (%) 19.6 20.4 25.3 26.7 27.9 31.9 Chronic Growth YoY (%) 14.6 23.8 53.9 16.0 16.4 28.6 Metro & Class 1 Share (%) NA 51.6 50.3 50.7 49.9 49.2 FY20 12.5 4.1 4 62.4 6.5 2 5.2 3 32.2 13.5 48.1 FY21 11.1 4.3 4 62.2 6.9 2 5.7 3 34.1 17.6 51.8 FY22 17.7 4.3 4 65.4 6.6 2 5.5 3 32.9 13.6 52.9 FY23 10.6 4.4 4 68.1 6.5 2 5.7 3 33.9 14.1 53.2'"
      ]
     },
     "execution_count": 14,
     "metadata": {},
     "output_type": "execute_result"
    }
   ],
   "source": [
    "tables[1]"
   ]
  },
  {
   "cell_type": "code",
   "execution_count": 0,
   "metadata": {
    "application/vnd.databricks.v1+cell": {
     "cellMetadata": {
      "byteLimit": 2048000,
      "rowLimit": 10000
     },
     "inputWidgets": {},
     "nuid": "94d58d1a-c125-49ba-81ce-35f0cc92f5fb",
     "showTitle": false,
     "title": ""
    }
   },
   "outputs": [
    {
     "output_type": "execute_result",
     "data": {
      "text/plain": [
       "[\"This is a table of contents for a comprehensive report or document about Mankind Pharma. It outlines the company's key details, including a brief introduction, its business highlights over the past decade, key milestones, and pillars of growth. It also includes messages from the Chairman, Vice Chairman, CEO, and COO. Moreover, it provides information about the company's business model, marketing and branding strategies, financial highlights, operational excellence, and quality management. The company's supply chain, research and development initiatives, and technology excellence are also discussed. The latter part of the document covers topics on environmental, social, and corporate governance, inclusive development, good governance, and profiles of board directors. It concludes with the company's awards, recognitions, and other corporate information.\",\n",
       " 'The table presents the growth and market share of different therapeutic segments from FY14 to FY23. Value growth YoY in IPM (%) fluctuated, reaching a peak of 24.2% in FY16 and lowest of 7.3% in FY14. Market Share by Value in IPM (%) increased gradually from 3.3% in FY14 to 4.4% in FY23. The company maintained its Market Ranking by Value in IPM (x) at 4 from FY16 to FY23. The Covered Market Share in total IPM (%) also saw a fluctuating trend, highest at 68.1% in FY23. The Market Share in Covered Market (%) and Covered Market Rank (x) remained fairly consistent. Volume Share in IPM (%) saw a steady increase from 3.9% in FY14 to 5.7% in FY23. The Chronic Share in total portfolio (%) increased from 19.6% in FY14 to 33.9% in FY23. Chronic Growth YoY (%) peaked at 53.9% in FY16. The Metro & Class 1 Share (%) decreased slightly from 51.6% in FY14 to 53.2% in FY23.',\n",
       " 'The table shows the performance of various therapeutic segments from FY14 to FY23. The Anti-Infective segment has seen a general decline over the years, going from 24.3 in FY14 to 15.0 in FY23. The Cardiac segment has consistently increased, starting from 7.1 in FY14 and reaching 12.8 in FY23. The Gastro Intestinal segment has remained relatively stable, with slight fluctuations. The Respiratory, Pain/Analgesics, and Anti Diabetic segments have seen a general increase, with the Anti Diabetic segment showing the most significant rise from 4.3 in FY14 to 8.2 in FY23. The Vitamins/Minerals/Nutrients segment peaked in FY16 and has since decreased. Dermatology has grown steadily, while Gynaecology has declined before a slight increase. Finally, the Neuro/CNS segment has generally declined.',\n",
       " 'The table outlines the performance of key therapeutic segments from FY14 through FY23. The segment with the most growth over this period was Anti-Diabetic, which grew from 3.6 in FY14 to 6.2 in FY23. The Anti-Infectives segment consistently had the highest values, peaking at 8.5 in FY18. The Neuro/CNS segment experienced the most significant decrease, from 4.2 in FY14 to 4.1 in FY23. Other notable segments include Cardiac, which saw steady growth from 2.9 in FY14 to 6.4 in FY23, and Dermatology, which held a steady value around 7-8 from FY15 to FY23.',\n",
       " 'The table represents data for key therapeutic segments from FY14 to FY23. The segments include Anti-Infectives, Cardiac, Gastro Intestinal, Respiratory, Pain/Analgesics, Anti Diabetic, Vitamins/Minerals/Nutrients, Dermatology, Gynaecology, and Neuro/CNS. Over the years, most segments saw a decrease in numbers. However, some segments like Pain/Analgesics and Neuro/CNS saw an increase in FY23. The highest number in FY23 was in the Pain/Analgesics segment with 8, while the lowest was in Vitamins/Minerals/Nutrients and Dermatology with 2.',\n",
       " \"The table presents the growth rates for IPM and Mankind for fiscal years 18 through 23. IPM's growth rate fluctuated, peaking at 9.7% in FY22, and hitting a low of -3.6% in FY21. Mankind's growth rate peaked at 16.7% in FY22 and had the lowest growth of 1.8% in FY21.\",\n",
       " \"The table presents information about the therapy areas and their ranking in CVM market share in IPM, IPM growth rate, and Mankind growth rate. Anti-Infectives rank 4 in the CVM market with a 5.7% share, and it's experiencing a 13% IPM growth rate and a 9% Mankind growth rate. Cardiovascular, ranking 4, has a 4.6% market share, with a 17% IPM growth and 12% Mankind growth rate. Gastrointestinal ranks 5 with a 4.5% market share, a 10% IPM growth rate, and a 7% Mankind growth rate. Respiratory and Anti-Diabetic both rank 3 with market shares of 4.8% and 3.9% respectively. They have IPM growth rates of 8% and 9% and Mankind growth rates of 7% each. Gynaecology, ranking 2, has the highest market share at 6.7%, the highest IPM growth rate at 27%, but a lower Mankind growth rate of 7.9%. Overall, the ranking is 2, with a market share of 4.4% and an IPM growth rate of 10.6%.\",\n",
       " \"The text seems to refer to financial data but without context, it's hard to provide a precise summary. There is mention of amounts in INR 100 crore and INR 200 crore, and a progression from 1.5X to 1.6X. There are also numbers that could represent fiscal years (FY20 and FY23) as well as other numbers (20, 13, 7, 11) that could be data points for those years.\",\n",
       " 'The table lists various brands of antibiotics, their active molecules, and the type of infections they treat. Moxikind-CV and Gudcef-CV (both containing Amoxicillin) treat respiratory tract infections. Gudcef (Cefpodoxime) treats cefixime urinary tract infections. Zady (Azithromycin) is used for skin and soft tissue infections, respiratory and urinary tract infections. Lastly, Ofloxacin is used for gastrointestinal infections.',\n",
       " 'The table presents a portfolio with a 13% share in cardiovascular drugs. It lists three molecules: Amlodipine, Telmisartan, and Sacubitril/Valsartan, which are indicated for the treatment of hypertension and heart failure.',\n",
       " 'The gastrointestinal portfolio includes mecobalamin, ondansetron, rabeprazole, pantoprazole and ofloxacin, which collectively make up 11% of the portfolio. These are used in treatments for conditions such as chronic fatigue syndrome, nausea, vomiting, hyperacidity, and gastrointestinal infection. The brands associated with these molecules are Nurokind-LC, Vomikind, Rabekind-DSR, Pantakind-DSR, and Zenflox-OZ respectively.',\n",
       " 'The table provides information about the product \"Nurokind Plus-RF\". It is a multivitamin used to treat vitamin deficiency. It contains a combination of the molecule Mecobalamin and L-arginine.',\n",
       " 'The respiratory medicine portfolio includes cough suppressants, cough expectorants, and antihistamines. The portfolio includes brands like Asthakind, Asthakind-DX, Asthakind-LS, and Monticope. Asthakind brands use Bromhexine, guaifenesin, and terbutaline as active ingredients for suppressing coughs. Monticope uses Montelukast as the active ingredient for treating allergic conditions.']"
      ]
     },
     "execution_count": 15,
     "metadata": {},
     "output_type": "execute_result"
    }
   ],
   "source": [
    "table_summaries"
   ]
  },
  {
   "cell_type": "markdown",
   "metadata": {
    "application/vnd.databricks.v1+cell": {
     "cellMetadata": {
      "byteLimit": 2048000,
      "rowLimit": 10000
     },
     "inputWidgets": {},
     "nuid": "da4a1508-f9b1-464a-9b84-72e3bce5c834",
     "showTitle": false,
     "title": ""
    }
   },
   "source": [
    "### Add to vector space"
   ]
  },
  {
   "cell_type": "code",
   "execution_count": 0,
   "metadata": {
    "application/vnd.databricks.v1+cell": {
     "cellMetadata": {
      "byteLimit": 2048000,
      "rowLimit": 10000
     },
     "inputWidgets": {},
     "nuid": "28bf8911-a17f-47e6-a5fc-481ff26b3257",
     "showTitle": false,
     "title": ""
    }
   },
   "outputs": [],
   "source": [
    "import uuid\n",
    "\n",
    "from langchain.retrievers.multi_vector import MultiVectorRetriever\n",
    "from langchain.storage import InMemoryStore\n",
    "from langchain_community.vectorstores import Chroma\n",
    "from langchain_core.documents import Document\n",
    "from langchain_openai import AzureOpenAIEmbeddings\n",
    "\n",
    "# The vectorstore to use to index the child chunks\n",
    "vectorstore = Chroma(collection_name=\"summaries\", embedding_function=AzureOpenAIEmbeddings(model=\"text-embedding-3-large\"))\n",
    "\n",
    "# The storage layer for the parent documents\n",
    "store = InMemoryStore()\n",
    "id_key = \"doc_id\"\n",
    "\n",
    "# The retriever (empty to start)\n",
    "retriever = MultiVectorRetriever(\n",
    "    vectorstore=vectorstore,\n",
    "    docstore=store,\n",
    "    id_key=id_key,\n",
    ")\n",
    "\n",
    "# Add texts\n",
    "doc_ids = [str(uuid.uuid4()) for _ in texts]\n",
    "summary_texts = [\n",
    "    Document(page_content=s, metadata={id_key: doc_ids[i]})\n",
    "    for i, s in enumerate(text_summaries)\n",
    "]\n",
    "retriever.vectorstore.add_documents(summary_texts)\n",
    "retriever.docstore.mset(list(zip(doc_ids, texts)))\n",
    "\n",
    "# Add tables\n",
    "table_ids = [str(uuid.uuid4()) for _ in tables]\n",
    "summary_tables = [\n",
    "    Document(page_content=s, metadata={id_key: table_ids[i]})\n",
    "    for i, s in enumerate(table_summaries)\n",
    "]\n",
    "retriever.vectorstore.add_documents(summary_tables)\n",
    "retriever.docstore.mset(list(zip(table_ids, tables)))"
   ]
  },
  {
   "cell_type": "code",
   "execution_count": 0,
   "metadata": {
    "application/vnd.databricks.v1+cell": {
     "cellMetadata": {
      "byteLimit": 2048000,
      "rowLimit": 10000
     },
     "inputWidgets": {},
     "nuid": "6e93a9b8-82d9-4385-a589-40157aa458ca",
     "showTitle": false,
     "title": ""
    }
   },
   "outputs": [
    {
     "output_type": "execute_result",
     "data": {
      "text/plain": [
       "MultiVectorRetriever(vectorstore=<langchain_community.vectorstores.chroma.Chroma object at 0x7fca70153f40>, docstore=<langchain_core.stores.InMemoryStore object at 0x7fca716afa60>)"
      ]
     },
     "execution_count": 17,
     "metadata": {},
     "output_type": "execute_result"
    }
   ],
   "source": [
    "retriever"
   ]
  },
  {
   "cell_type": "markdown",
   "metadata": {
    "application/vnd.databricks.v1+cell": {
     "cellMetadata": {
      "byteLimit": 2048000,
      "rowLimit": 10000
     },
     "inputWidgets": {},
     "nuid": "adf3f199-879b-440f-8a3a-13c8705136f0",
     "showTitle": false,
     "title": ""
    }
   },
   "source": [
    "### Sanity check"
   ]
  },
  {
   "cell_type": "code",
   "execution_count": 0,
   "metadata": {
    "application/vnd.databricks.v1+cell": {
     "cellMetadata": {
      "byteLimit": 2048000,
      "rowLimit": 10000
     },
     "inputWidgets": {},
     "nuid": "044e0536-a2b5-4132-ab8f-ea1c1430a622",
     "showTitle": false,
     "title": ""
    }
   },
   "outputs": [
    {
     "output_type": "execute_result",
     "data": {
      "text/plain": [
       "'Key Therapeutic Segments FY14 FY15 FY16 FY17 FY18 FY19 Anti-Infectives 24.3 22.0 19.6 19.0 17.7 15.8 Cardiac 7.1 7.6 8.5 9.3 10.1 10.8 Gastro Intestinal 12.0 12.1 13.1 12.7 12.3 11.5 Respiratory 6.4 6.8 6.6 6.5 7.6 8.0 Pain / Analgesics 5.9 6.2 6.3 6.3 6.0 6.4 Anti Diabetic 4.3 4.5 4.9 5.7 6.3 7.7 Vitamins/Minerals/Nutrients 7.7 9.2 10.8 10.7 10.6 9.8 Dermatology 5.3 6.2 7.1 8.2 9.1 9.0 Gynaecology 8.0 7.3 6.1 5.4 4.8 5.0 Neuro / CNS 4.4 4.3 3.1 2.8 2.7 2.9 FY20 15.9 11.5 11.4 8.7 6.1 7.5 9.5 8.4 5.1 2.9 FY21 13.2 12.6 11.3 7.2 5.4 8.7 10.3 8.6 6.5 3.2 FY22 14.7 12.1 10.9 9.7 5.4 8.3 9.5 7.4 6.7 2.9 FY23 15.0 12.8 10.8 9.5 5.0 8.2 8.5 6.1 7.7 2.6'"
      ]
     },
     "execution_count": 18,
     "metadata": {},
     "output_type": "execute_result"
    }
   ],
   "source": [
    "tables[2]"
   ]
  },
  {
   "cell_type": "code",
   "execution_count": 0,
   "metadata": {
    "application/vnd.databricks.v1+cell": {
     "cellMetadata": {
      "byteLimit": 2048000,
      "rowLimit": 10000
     },
     "inputWidgets": {},
     "nuid": "1a792373-e5ba-4314-a9c0-4ef0504b9bd5",
     "showTitle": false,
     "title": ""
    }
   },
   "outputs": [
    {
     "output_type": "execute_result",
     "data": {
      "text/plain": [
       "'The table presents the growth and market share of different therapeutic segments from FY14 to FY23. Value growth YoY in IPM (%) fluctuated, reaching a peak of 24.2% in FY16 and lowest of 7.3% in FY14. Market Share by Value in IPM (%) increased gradually from 3.3% in FY14 to 4.4% in FY23. The company maintained its Market Ranking by Value in IPM (x) at 4 from FY16 to FY23. The Covered Market Share in total IPM (%) also saw a fluctuating trend, highest at 68.1% in FY23. The Market Share in Covered Market (%) and Covered Market Rank (x) remained fairly consistent. Volume Share in IPM (%) saw a steady increase from 3.9% in FY14 to 5.7% in FY23. The Chronic Share in total portfolio (%) increased from 19.6% in FY14 to 33.9% in FY23. Chronic Growth YoY (%) peaked at 53.9% in FY16. The Metro & Class 1 Share (%) decreased slightly from 51.6% in FY14 to 53.2% in FY23.'"
      ]
     },
     "execution_count": 19,
     "metadata": {},
     "output_type": "execute_result"
    }
   ],
   "source": [
    "table_summaries[1]"
   ]
  },
  {
   "cell_type": "markdown",
   "metadata": {
    "application/vnd.databricks.v1+cell": {
     "cellMetadata": {
      "byteLimit": 2048000,
      "rowLimit": 10000
     },
     "inputWidgets": {},
     "nuid": "d44780cc-22e6-4005-8d91-3c9771a943e8",
     "showTitle": false,
     "title": ""
    }
   },
   "source": [
    "## retrieval of that table from the natural language query:"
   ]
  },
  {
   "cell_type": "code",
   "execution_count": 0,
   "metadata": {
    "application/vnd.databricks.v1+cell": {
     "cellMetadata": {
      "byteLimit": 2048000,
      "rowLimit": 10000
     },
     "inputWidgets": {},
     "nuid": "a86a16ae-2ad4-41e8-b35e-b9a6ca4ca478",
     "showTitle": false,
     "title": ""
    }
   },
   "outputs": [
    {
     "output_type": "execute_result",
     "data": {
      "text/plain": [
       "'#3 Rank by volumes in FY23\\n\\n4 Consumer Healthcare brands ranked #1 in their categories\\n\\nYoungest in the Top 5 of the IPM\\n\\n2.2X Average volume growth from FY18 to FY23 vs IPM\\n\\nRank by Value\\n\\n#8  #4  FY12  FY23 \\n\\nSTATUTORY REPORTS\\n\\n65 - Management Discussion and Analysis 87 - Board’s Report 135 - Business Responsibility and Sustainability Report\\n\\nScale of operations\\n\\nFINANCIAL STATEMENTS\\n\\n177 - Standalone Financial Statements 321 - Consolidated Financial Statements\\n\\nINR 8,749 crore Revenue\\n\\n97% Domestic revenue\\n\\nINR 1,913 crore EBITDA\\n\\n15,000+ Field force (including field managers)\\n\\nFor more information, scan the QR code or visit our website\\n\\n13,000+ Stockists\\n\\nhttps://www.mankindpharma.com\\n\\nINR 1,310 crore PAT\\n\\nForward-Looking Statements\\n\\nThe statements may contain forward-looking statements like the words ‘believe’, ‘expect’, ‘anticipate’, ‘intend’, ‘plan’, ‘estimate’, ‘project’, ‘will’, ‘may’, ‘targeting’ and similar expressions regarding the financial position, business strategy, plans, targets and objectives of the Company. Such forward‐ looking statements involve known and unknown risks which may cause actual results, performance or achievements to be materially different from results or achievements expressed or implied. The risks and uncertainties inter-alia, relating to these statements include (i) cash flow projections, (ii) industry and market conditions; (iii) ability to manage growth; (iv) competition; (v) government policies and regulations; (vi) obtaining regulatory approvals; (vii) domestic & international economic conditions such as interest rate & currency exchange fluctuations; (viii) political, economic, legal and social conditions in India/ elsewhere; (ix) technological advances; (x) claims and concerns about product safety and efficacy; (xi) domestic and foreign healthcare reforms; (xii) inability to build production capacity; (xiii) unavailability of raw materials and failure to gain market acceptance.\\n\\n20 brand families Worth over INR 100 crore\\n\\nINR 40.4 Cash EPS\\n\\nINR 1,813 crore Cash Flow From Operations\\n\\n*Source: IQVIA MAT March 23\\n\\n:\\n\\n(ee) 5\\n\\nAccelerated urbanisation, growing income levels, rapid growth of infrastructure and aspirations for a better quality of life are blurring the thin lines that separate India from Bharat.\\n\\nal s a\\n\\n~~'"
      ]
     },
     "execution_count": 32,
     "metadata": {},
     "output_type": "execute_result"
    }
   ],
   "source": [
    "retriever.invoke(\"What is the EBITDA for FY23?\")[3]\n"
   ]
  },
  {
   "cell_type": "markdown",
   "metadata": {
    "application/vnd.databricks.v1+cell": {
     "cellMetadata": {
      "byteLimit": 2048000,
      "rowLimit": 10000
     },
     "inputWidgets": {},
     "nuid": "7f930f0c-202e-4559-a71f-93d156e1d0db",
     "showTitle": false,
     "title": ""
    }
   },
   "source": [
    "## Traditional RAG architecture"
   ]
  },
  {
   "cell_type": "code",
   "execution_count": 0,
   "metadata": {
    "application/vnd.databricks.v1+cell": {
     "cellMetadata": {
      "byteLimit": 2048000,
      "rowLimit": 10000
     },
     "inputWidgets": {},
     "nuid": "fadcbc52-9091-40ca-9788-6ef4d25de06b",
     "showTitle": false,
     "title": ""
    }
   },
   "outputs": [],
   "source": [
    "from langchain_core.runnables import RunnablePassthrough\n",
    "\n",
    "# Prompt template\n",
    "template = \"\"\"Answer the question based only on the following context, which can include text and tables:\n",
    "{context}\n",
    "Question: {question}\n",
    "\"\"\"\n",
    "prompt = ChatPromptTemplate.from_template(template)\n",
    "\n",
    "# Option 1: LLM\n",
    "model = AzureChatOpenAI(temperature=0,azure_deployment=\"gpt-4\", api_version=\"2024-02-01\")\n",
    "# Option 2: Multi-modal LLM\n",
    "# model = GPT4-V or LLaVA\n",
    "# RAG pipeline\n",
    "chain = (\n",
    "    {\"context\": retriever, \"question\": RunnablePassthrough()}\n",
    "    | prompt\n",
    "    | model\n",
    "    | StrOutputParser()\n",
    ")"
   ]
  },
  {
   "cell_type": "markdown",
   "metadata": {
    "application/vnd.databricks.v1+cell": {
     "cellMetadata": {},
     "inputWidgets": {},
     "nuid": "96c62a63-d97c-4f61-aa9e-3d6e79a06a33",
     "showTitle": false,
     "title": ""
    }
   },
   "source": [
    "### Sample Queries"
   ]
  },
  {
   "cell_type": "code",
   "execution_count": 0,
   "metadata": {
    "application/vnd.databricks.v1+cell": {
     "cellMetadata": {
      "byteLimit": 2048000,
      "rowLimit": 10000
     },
     "inputWidgets": {},
     "nuid": "69ad4730-2a73-4186-9d72-7a0821c55ec9",
     "showTitle": false,
     "title": ""
    }
   },
   "outputs": [
    {
     "output_type": "execute_result",
     "data": {
      "text/plain": [
       "'The Value Growth YoY in IPM (%) for FY22 is 17.7%.'"
      ]
     },
     "execution_count": 22,
     "metadata": {},
     "output_type": "execute_result"
    }
   ],
   "source": [
    "chain.invoke(\n",
    "    \"What is the Value Growth YoY in IPM (%) for FY22?\"\n",
    ")"
   ]
  },
  {
   "cell_type": "code",
   "execution_count": 0,
   "metadata": {
    "application/vnd.databricks.v1+cell": {
     "cellMetadata": {
      "byteLimit": 2048000,
      "rowLimit": 10000
     },
     "inputWidgets": {},
     "nuid": "8936366a-7f28-4b84-a7f9-8bba507a3455",
     "showTitle": false,
     "title": ""
    }
   },
   "outputs": [
    {
     "output_type": "execute_result",
     "data": {
      "text/plain": [
       "'The Mankind share (%) of key therapeutic segments (on covered market basis) for the Cardiac segment for FY18 is 10.1%.'"
      ]
     },
     "execution_count": 23,
     "metadata": {},
     "output_type": "execute_result"
    }
   ],
   "source": [
    "chain.invoke(\n",
    "    \"Mankind share (%) of key therapeutic segments (on covered market basis) for Cardic segment for FY18?\"\n",
    ")"
   ]
  },
  {
   "cell_type": "code",
   "execution_count": 0,
   "metadata": {
    "application/vnd.databricks.v1+cell": {
     "cellMetadata": {
      "byteLimit": 2048000,
      "rowLimit": 10000
     },
     "inputWidgets": {},
     "nuid": "0b9a3a86-5d29-4ac1-9089-09d306f7c8a9",
     "showTitle": false,
     "title": ""
    }
   },
   "outputs": [
    {
     "output_type": "execute_result",
     "data": {
      "text/plain": [
       "'The Vice Chairman and Managing Director of Mankind is Rajeev Juneja.'"
      ]
     },
     "execution_count": 24,
     "metadata": {},
     "output_type": "execute_result"
    }
   ],
   "source": [
    "chain.invoke(\n",
    "    \"WHo is the vice president and managing director of mankind?\"\n",
    ")"
   ]
  },
  {
   "cell_type": "code",
   "execution_count": 0,
   "metadata": {
    "application/vnd.databricks.v1+cell": {
     "cellMetadata": {
      "byteLimit": 2048000,
      "rowLimit": 10000
     },
     "inputWidgets": {},
     "nuid": "eb1b4f6d-40d0-4c17-9bd9-346b96b94136",
     "showTitle": false,
     "title": ""
    }
   },
   "outputs": [
    {
     "output_type": "execute_result",
     "data": {
      "text/plain": [
       "'The EBITDA for FY23 is INR 1,913 crore.'"
      ]
     },
     "execution_count": 25,
     "metadata": {},
     "output_type": "execute_result"
    }
   ],
   "source": [
    "chain.invoke(\n",
    "    \"What is the EBITDA for FY23?\"     ## page 14\n",
    ")"
   ]
  },
  {
   "cell_type": "code",
   "execution_count": 0,
   "metadata": {
    "application/vnd.databricks.v1+cell": {
     "cellMetadata": {
      "byteLimit": 2048000,
      "rowLimit": 10000
     },
     "inputWidgets": {},
     "nuid": "87b5ce0d-4905-4998-903a-c1197b45fb55",
     "showTitle": false,
     "title": ""
    }
   },
   "outputs": [
    {
     "output_type": "execute_result",
     "data": {
      "text/plain": [
       "'The first company to manufacture Dydrogesterone is Mankind.'"
      ]
     },
     "execution_count": 26,
     "metadata": {},
     "output_type": "execute_result"
    }
   ],
   "source": [
    "chain.invoke(\n",
    "    \"who is the first company to manufacture Dydrogesterone?\"\n",
    ")"
   ]
  },
  {
   "cell_type": "code",
   "execution_count": 0,
   "metadata": {
    "application/vnd.databricks.v1+cell": {
     "cellMetadata": {
      "byteLimit": 2048000,
      "rowLimit": 10000
     },
     "inputWidgets": {},
     "nuid": "df10a252-615f-4091-adc7-4a8713c761c5",
     "showTitle": false,
     "title": ""
    }
   },
   "outputs": [
    {
     "output_type": "execute_result",
     "data": {
      "text/plain": [
       "'The text does not provide information on who Arjun Juneja is.'"
      ]
     },
     "execution_count": 27,
     "metadata": {},
     "output_type": "execute_result"
    }
   ],
   "source": [
    "chain.invoke(\n",
    "    \"Who is Arjun Juneja?\"\n",
    ")"
   ]
  },
  {
   "cell_type": "code",
   "execution_count": 0,
   "metadata": {
    "application/vnd.databricks.v1+cell": {
     "cellMetadata": {
      "byteLimit": 2048000,
      "rowLimit": 10000
     },
     "inputWidgets": {},
     "nuid": "62f9e18d-957d-4d37-a7e2-dfbd269d797b",
     "showTitle": false,
     "title": ""
    }
   },
   "outputs": [
    {
     "output_type": "execute_result",
     "data": {
      "text/plain": [
       "'The Chief Operating Officer of Mankind is Arjun Juneja.'"
      ]
     },
     "execution_count": 28,
     "metadata": {},
     "output_type": "execute_result"
    }
   ],
   "source": [
    "chain.invoke(\n",
    "    \"Who is Chief Operating Officer of mankind?\"\n",
    ")"
   ]
  },
  {
   "cell_type": "code",
   "execution_count": 0,
   "metadata": {
    "application/vnd.databricks.v1+cell": {
     "cellMetadata": {
      "byteLimit": 2048000,
      "rowLimit": 10000
     },
     "inputWidgets": {},
     "nuid": "d0f208b6-5072-42c7-b793-dc1bd0c59993",
     "showTitle": false,
     "title": ""
    }
   },
   "outputs": [
    {
     "output_type": "execute_result",
     "data": {
      "text/plain": [
       "'The total equity is INR 7,623 crore.'"
      ]
     },
     "execution_count": 29,
     "metadata": {},
     "output_type": "execute_result"
    }
   ],
   "source": [
    "chain.invoke(\n",
    "    \" Total Equity?\"\n",
    ")"
   ]
  },
  {
   "cell_type": "code",
   "execution_count": 0,
   "metadata": {
    "application/vnd.databricks.v1+cell": {
     "cellMetadata": {
      "byteLimit": 2048000,
      "rowLimit": 10000
     },
     "inputWidgets": {},
     "nuid": "34dc98a4-de1d-4d9f-95c4-5e260fbe59c0",
     "showTitle": false,
     "title": ""
    }
   },
   "outputs": [
    {
     "output_type": "execute_result",
     "data": {
      "text/plain": [
       "'The total market share in FY14 was 3.3%.'"
      ]
     },
     "execution_count": 30,
     "metadata": {},
     "output_type": "execute_result"
    }
   ],
   "source": [
    "chain.invoke(\n",
    "    \"What is total Market Share in FY14?\"\n",
    ") "
   ]
  },
  {
   "cell_type": "code",
   "execution_count": 0,
   "metadata": {
    "application/vnd.databricks.v1+cell": {
     "cellMetadata": {
      "byteLimit": 2048000,
      "rowLimit": 10000
     },
     "inputWidgets": {},
     "nuid": "ef73655e-8d28-4068-b905-93b580724be6",
     "showTitle": false,
     "title": ""
    }
   },
   "outputs": [
    {
     "output_type": "execute_result",
     "data": {
      "text/plain": [
       "'The total market share of UNWANTED-72 is 62%.'"
      ]
     },
     "execution_count": 31,
     "metadata": {},
     "output_type": "execute_result"
    }
   ],
   "source": [
    "chain.invoke(\n",
    "    \"What is total Market share of UNWANTED-72?\"\n",
    ")"
   ]
  },
  {
   "cell_type": "code",
   "execution_count": 0,
   "metadata": {
    "application/vnd.databricks.v1+cell": {
     "cellMetadata": {
      "byteLimit": 2048000,
      "rowLimit": 10000
     },
     "inputWidgets": {},
     "nuid": "5cfd9cad-25fd-485a-8c0e-7026edd1c21c",
     "showTitle": false,
     "title": ""
    }
   },
   "outputs": [
    {
     "output_type": "execute_result",
     "data": {
      "text/plain": [
       "'Unwanted-72 was launched in 2007.'"
      ]
     },
     "execution_count": 32,
     "metadata": {},
     "output_type": "execute_result"
    }
   ],
   "source": [
    "chain.invoke(\"When did the unwanted-72 got launched?\")"
   ]
  },
  {
   "cell_type": "code",
   "execution_count": 0,
   "metadata": {
    "application/vnd.databricks.v1+cell": {
     "cellMetadata": {
      "byteLimit": 2048000,
      "rowLimit": 10000
     },
     "inputWidgets": {},
     "nuid": "73366f35-0283-45bf-a45b-991f13c75730",
     "showTitle": false,
     "title": ""
    }
   },
   "outputs": [
    {
     "output_type": "execute_result",
     "data": {
      "text/plain": [
       "'HealthOK is a multivitamin brand that was switched to the Consumer Healthcare segment in 2021. It is a multivitamin tablet that improves energy levels, overall health, and immunity. The brand also offers a range of multivitamin gummies for children.'"
      ]
     },
     "execution_count": 33,
     "metadata": {},
     "output_type": "execute_result"
    }
   ],
   "source": [
    "chain.invoke(\"what is HealthOK?\")"
   ]
  },
  {
   "cell_type": "markdown",
   "metadata": {
    "application/vnd.databricks.v1+cell": {
     "cellMetadata": {
      "byteLimit": 2048000,
      "rowLimit": 10000
     },
     "inputWidgets": {},
     "nuid": "0df93619-8c9e-4e14-928d-faf618caa130",
     "showTitle": false,
     "title": ""
    }
   },
   "source": [
    "## Multimodal RAG"
   ]
  },
  {
   "cell_type": "code",
   "execution_count": 0,
   "metadata": {
    "application/vnd.databricks.v1+cell": {
     "cellMetadata": {
      "byteLimit": 2048000,
      "rowLimit": 10000
     },
     "inputWidgets": {},
     "nuid": "cdaa885e-9d73-4a8e-8254-5e2ac1150dfc",
     "showTitle": false,
     "title": ""
    }
   },
   "outputs": [
    {
     "output_type": "stream",
     "name": "stdout",
     "output_type": "stream",
     "text": [
      "\u001B[43mNote: you may need to restart the kernel using dbutils.library.restartPython() to use updated packages.\u001B[0m\nRequirement already satisfied: langchain in /local_disk0/.ephemeral_nfs/envs/pythonEnv-99ac66fc-19db-48be-a63e-f19f88fab305/lib/python3.10/site-packages (0.2.6)\nCollecting langchain\n  Downloading langchain-0.2.10-py3-none-any.whl (990 kB)\n     ━━━━━━━━━━━━━━━━━━━━━━━━━━━━━━━━━━━━━━ 990.0/990.0 kB 11.4 MB/s eta 0:00:00\nRequirement already satisfied: langchain-core<0.3.0,>=0.2.22 in /local_disk0/.ephemeral_nfs/envs/pythonEnv-99ac66fc-19db-48be-a63e-f19f88fab305/lib/python3.10/site-packages (from langchain) (0.2.22)\nRequirement already satisfied: langchain-text-splitters<0.3.0,>=0.2.0 in /local_disk0/.ephemeral_nfs/envs/pythonEnv-99ac66fc-19db-48be-a63e-f19f88fab305/lib/python3.10/site-packages (from langchain) (0.2.2)\nRequirement already satisfied: aiohttp<4.0.0,>=3.8.3 in /databricks/python3/lib/python3.10/site-packages (from langchain) (3.8.5)\nRequirement already satisfied: numpy<2,>=1 in /local_disk0/.ephemeral_nfs/envs/pythonEnv-99ac66fc-19db-48be-a63e-f19f88fab305/lib/python3.10/site-packages (from langchain) (1.24.4)\nRequirement already satisfied: pydantic<3,>=1 in /databricks/python3/lib/python3.10/site-packages (from langchain) (1.10.6)\nRequirement already satisfied: PyYAML>=5.3 in /databricks/python3/lib/python3.10/site-packages (from langchain) (6.0)\nRequirement already satisfied: SQLAlchemy<3,>=1.4 in /databricks/python3/lib/python3.10/site-packages (from langchain) (1.4.39)\nRequirement already satisfied: tenacity!=8.4.0,<9.0.0,>=8.1.0 in /local_disk0/.ephemeral_nfs/envs/pythonEnv-99ac66fc-19db-48be-a63e-f19f88fab305/lib/python3.10/site-packages (from langchain) (8.5.0)\nRequirement already satisfied: langsmith<0.2.0,>=0.1.17 in /local_disk0/.ephemeral_nfs/envs/pythonEnv-99ac66fc-19db-48be-a63e-f19f88fab305/lib/python3.10/site-packages (from langchain) (0.1.93)\nRequirement already satisfied: async-timeout<5.0.0,>=4.0.0 in /databricks/python3/lib/python3.10/site-packages (from langchain) (4.0.3)\nRequirement already satisfied: requests<3,>=2 in /databricks/python3/lib/python3.10/site-packages (from langchain) (2.28.1)\nRequirement already satisfied: charset-normalizer<4.0,>=2.0 in /local_disk0/.ephemeral_nfs/envs/pythonEnv-99ac66fc-19db-48be-a63e-f19f88fab305/lib/python3.10/site-packages (from aiohttp<4.0.0,>=3.8.3->langchain) (2.1.1)\nRequirement already satisfied: multidict<7.0,>=4.5 in /databricks/python3/lib/python3.10/site-packages (from aiohttp<4.0.0,>=3.8.3->langchain) (6.0.4)\nRequirement already satisfied: yarl<2.0,>=1.0 in /databricks/python3/lib/python3.10/site-packages (from aiohttp<4.0.0,>=3.8.3->langchain) (1.9.2)\nRequirement already satisfied: frozenlist>=1.1.1 in /databricks/python3/lib/python3.10/site-packages (from aiohttp<4.0.0,>=3.8.3->langchain) (1.4.0)\nRequirement already satisfied: attrs>=17.3.0 in /databricks/python3/lib/python3.10/site-packages (from aiohttp<4.0.0,>=3.8.3->langchain) (21.4.0)\nRequirement already satisfied: aiosignal>=1.1.2 in /databricks/python3/lib/python3.10/site-packages (from aiohttp<4.0.0,>=3.8.3->langchain) (1.3.1)\nRequirement already satisfied: packaging<25,>=23.2 in /local_disk0/.ephemeral_nfs/envs/pythonEnv-99ac66fc-19db-48be-a63e-f19f88fab305/lib/python3.10/site-packages (from langchain-core<0.3.0,>=0.2.22->langchain) (24.1)\nRequirement already satisfied: jsonpatch<2.0,>=1.33 in /local_disk0/.ephemeral_nfs/envs/pythonEnv-99ac66fc-19db-48be-a63e-f19f88fab305/lib/python3.10/site-packages (from langchain-core<0.3.0,>=0.2.22->langchain) (1.33)\nRequirement already satisfied: orjson<4.0.0,>=3.9.14 in /local_disk0/.ephemeral_nfs/envs/pythonEnv-99ac66fc-19db-48be-a63e-f19f88fab305/lib/python3.10/site-packages (from langsmith<0.2.0,>=0.1.17->langchain) (3.10.6)\nRequirement already satisfied: typing-extensions>=4.2.0 in /local_disk0/.ephemeral_nfs/cluster_libraries/python/lib/python3.10/site-packages (from pydantic<3,>=1->langchain) (4.12.2)\nRequirement already satisfied: certifi>=2017.4.17 in /local_disk0/.ephemeral_nfs/envs/pythonEnv-99ac66fc-19db-48be-a63e-f19f88fab305/lib/python3.10/site-packages (from requests<3,>=2->langchain) (2024.7.4)\nRequirement already satisfied: urllib3<1.27,>=1.21.1 in /local_disk0/.ephemeral_nfs/envs/pythonEnv-99ac66fc-19db-48be-a63e-f19f88fab305/lib/python3.10/site-packages (from requests<3,>=2->langchain) (1.26.19)\nRequirement already satisfied: idna<4,>=2.5 in /databricks/python3/lib/python3.10/site-packages (from requests<3,>=2->langchain) (3.3)\nRequirement already satisfied: greenlet!=0.4.17 in /databricks/python3/lib/python3.10/site-packages (from SQLAlchemy<3,>=1.4->langchain) (1.1.1)\nRequirement already satisfied: jsonpointer>=1.9 in /local_disk0/.ephemeral_nfs/envs/pythonEnv-99ac66fc-19db-48be-a63e-f19f88fab305/lib/python3.10/site-packages (from jsonpatch<2.0,>=1.33->langchain-core<0.3.0,>=0.2.22->langchain) (3.0.0)\nInstalling collected packages: langchain\n  Attempting uninstall: langchain\n    Found existing installation: langchain 0.2.6\n    Uninstalling langchain-0.2.6:\n      Successfully uninstalled langchain-0.2.6\nSuccessfully installed langchain-0.2.10\n\u001B[43mNote: you may need to restart the kernel using dbutils.library.restartPython() to use updated packages.\u001B[0m\n"
     ]
    }
   ],
   "source": [
    "%pip install --upgrade langchain"
   ]
  },
  {
   "cell_type": "code",
   "execution_count": 0,
   "metadata": {
    "application/vnd.databricks.v1+cell": {
     "cellMetadata": {
      "byteLimit": 2048000,
      "rowLimit": 10000
     },
     "inputWidgets": {},
     "nuid": "34234533-4360-4953-a31a-9d304d22cbe3",
     "showTitle": false,
     "title": ""
    }
   },
   "outputs": [],
   "source": [
    "from langchain_core.runnables import RunnablePassthrough\n",
    "\n",
    "# Prompt template\n",
    "template = \"\"\"Answer the question based only on the following context, which can include text and tables:\n",
    "{context}\n",
    "Question: {question}\n",
    "\"\"\"\n",
    "prompt = ChatPromptTemplate.from_template(template)\n",
    "\n",
    "# Multi-modal LLM\n",
    "model = AzureChatOpenAI(temperature=0,azure_deployment=\"gpt-4o\", api_version=\"2024-02-01\")\n",
    "\n",
    "# RAG pipeline\n",
    "chain = (\n",
    "    {\"context\": retriever, \"question\": RunnablePassthrough()}\n",
    "    | prompt\n",
    "    | model\n",
    "    | StrOutputParser()\n",
    ")"
   ]
  },
  {
   "cell_type": "code",
   "execution_count": 0,
   "metadata": {
    "application/vnd.databricks.v1+cell": {
     "cellMetadata": {
      "byteLimit": 2048000,
      "rowLimit": 10000
     },
     "inputWidgets": {},
     "nuid": "de2de9c0-8c55-4310-87c2-76cdda8d5727",
     "showTitle": false,
     "title": ""
    }
   },
   "outputs": [
    {
     "output_type": "execute_result",
     "data": {
      "text/plain": [
       "'The total market share of UNWANTED-72 is 62%.'"
      ]
     },
     "execution_count": 36,
     "metadata": {},
     "output_type": "execute_result"
    }
   ],
   "source": [
    "chain.invoke(\n",
    "    \"What is total Market share of UNWANTED-72?\"\n",
    ")"
   ]
  },
  {
   "cell_type": "code",
   "execution_count": 0,
   "metadata": {
    "application/vnd.databricks.v1+cell": {
     "cellMetadata": {
      "byteLimit": 2048000,
      "rowLimit": 10000
     },
     "inputWidgets": {},
     "nuid": "5a6b89a2-7af6-4da0-af0d-e271210dcbc1",
     "showTitle": false,
     "title": ""
    }
   },
   "outputs": [
    {
     "output_type": "execute_result",
     "data": {
      "text/plain": [
       "'The total market share of Prega News is 82%.'"
      ]
     },
     "execution_count": 37,
     "metadata": {},
     "output_type": "execute_result"
    }
   ],
   "source": [
    "chain.invoke(\n",
    "    \"What is total Market share of PregaNews?\"\n",
    ")"
   ]
  },
  {
   "cell_type": "code",
   "execution_count": 0,
   "metadata": {
    "application/vnd.databricks.v1+cell": {
     "cellMetadata": {
      "byteLimit": 2048000,
      "rowLimit": 10000
     },
     "inputWidgets": {},
     "nuid": "ff57d79c-240b-4cb0-a54a-31b9fb216e24",
     "showTitle": false,
     "title": ""
    }
   },
   "outputs": [
    {
     "output_type": "execute_result",
     "data": {
      "text/plain": [
       "'The provided context does not specify the exact number of products launched in FY23.'"
      ]
     },
     "execution_count": 38,
     "metadata": {},
     "output_type": "execute_result"
    }
   ],
   "source": [
    "chain.invoke(\n",
    "    \"How many products launched in FY23?\"\n",
    ")"
   ]
  },
  {
   "cell_type": "code",
   "execution_count": 0,
   "metadata": {
    "application/vnd.databricks.v1+cell": {
     "cellMetadata": {
      "byteLimit": 2048000,
      "rowLimit": 10000
     },
     "inputWidgets": {},
     "nuid": "64fc13e6-bc8f-4614-8a3f-cfed7ea67f33",
     "showTitle": false,
     "title": ""
    }
   },
   "outputs": [
    {
     "output_type": "execute_result",
     "data": {
      "text/plain": [
       "'The strength of doctors associated with Mankind is more than 4 lakh (400,000) doctors.'"
      ]
     },
     "execution_count": 39,
     "metadata": {},
     "output_type": "execute_result"
    }
   ],
   "source": [
    "chain.invoke(\n",
    "    \"What is the strength of Doctor associated with Mankind?\"\n",
    ")"
   ]
  },
  {
   "cell_type": "code",
   "execution_count": 0,
   "metadata": {
    "application/vnd.databricks.v1+cell": {
     "cellMetadata": {
      "byteLimit": 2048000,
      "rowLimit": 10000
     },
     "inputWidgets": {},
     "nuid": "1ec48c90-0538-4149-8b0c-f6053d327e36",
     "showTitle": false,
     "title": ""
    }
   },
   "outputs": [
    {
     "output_type": "execute_result",
     "data": {
      "text/plain": [
       "'The strength of the Field Force is over 15,000, including field managers.'"
      ]
     },
     "execution_count": 40,
     "metadata": {},
     "output_type": "execute_result"
    }
   ],
   "source": [
    "chain.invoke(\"strength of Field Force?\")"
   ]
  },
  {
   "cell_type": "code",
   "execution_count": 0,
   "metadata": {
    "application/vnd.databricks.v1+cell": {
     "cellMetadata": {
      "byteLimit": 2048000,
      "rowLimit": 10000
     },
     "inputWidgets": {},
     "nuid": "5220201c-b36e-418f-80a8-94e7b42fd785",
     "showTitle": false,
     "title": ""
    }
   },
   "outputs": [
    {
     "output_type": "execute_result",
     "data": {
      "text/plain": [
       "\"Mankind's pillars of growth include:\\n\\n1. **Affordability**: Providing cost-effective healthcare solutions.\\n2. **Quality**: Ensuring high-quality healthcare products and services.\\n3. **Accessibility**: Making products accessible to customers across different parts of the country.\\n4. **Innovation**: Investing in research and development to create innovative healthcare products.\\n5. **Sustainability**: Incorporating sustainability principles in business operations to minimize environmental footprint and empower local communities.\\n6. **Customer-Centricity**: Maintaining a strong focus on customer needs and satisfaction.\\n7. **Strong Manufacturing Capabilities**: Operating 25 state-of-the-art manufacturing facilities with a wide range of dosage forms.\\n8. **Extensive Distribution Network**: Having one of the largest distribution networks in India to ensure product availability.\\n9. **Corporate Governance**: Implementing robust corporate governance practices.\\n10. **Market Leadership**: Establishing strong brand recall and market leadership in various healthcare segments.\""
      ]
     },
     "execution_count": 41,
     "metadata": {},
     "output_type": "execute_result"
    }
   ],
   "source": [
    "chain.invoke(\"mankind's pillars of growth?\")"
   ]
  },
  {
   "cell_type": "code",
   "execution_count": 0,
   "metadata": {
    "application/vnd.databricks.v1+cell": {
     "cellMetadata": {
      "byteLimit": 2048000,
      "rowLimit": 10000
     },
     "inputWidgets": {},
     "nuid": "587b5f77-2c46-499f-9315-7061fb803bba",
     "showTitle": false,
     "title": ""
    }
   },
   "outputs": [],
   "source": []
  }
 ],
 "metadata": {
  "application/vnd.databricks.v1+notebook": {
   "dashboards": [],
   "environmentMetadata": null,
   "language": "python",
   "notebookMetadata": {
    "pythonIndentUnit": 4
   },
   "notebookName": "MultiModel_RAG_using_GPT-4o",
   "widgets": {}
  }
 },
 "nbformat": 4,
 "nbformat_minor": 0
}
